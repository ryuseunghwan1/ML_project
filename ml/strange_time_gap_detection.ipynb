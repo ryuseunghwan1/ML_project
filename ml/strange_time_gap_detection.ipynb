{
 "cells": [
  {
   "cell_type": "markdown",
   "id": "unsigned-period",
   "metadata": {},
   "source": [
    "# 진행 배경\n",
    "- start_hour, accident_hour, duration 세 개를 비교했을 때 앞뒤가 맞지 않는 경우가 존재\n",
    "- 예를 들면, 15시에 빌렸고 대여기간은 2시간인데 사고가 21시 이후 발생하는 경우\n",
    "- 해당 경우들을 찾아낸 후, 전처리 시 삭제할 예정 (train데이터만! test는 안건드림)"
   ]
  },
  {
   "cell_type": "markdown",
   "id": "resistant-death",
   "metadata": {},
   "source": [
    "# 0. 작업 전 데이터 전처리"
   ]
  },
  {
   "cell_type": "code",
   "execution_count": 1,
   "id": "funded-principle",
   "metadata": {},
   "outputs": [],
   "source": [
    "# 데이터 불러오고 카피 생성\n",
    "df_raw = pd.read_csv('datas/insurance_fraud_detect_data(0408).csv')\n",
    "df = df_raw.copy()"
   ]
  },
  {
   "cell_type": "code",
   "execution_count": 2,
   "id": "instrumental-workplace",
   "metadata": {},
   "outputs": [],
   "source": [
    "# 헷갈리니 start_hour, duration, accident_hour 순서 순으로 다시 범주화\n",
    "# start_hour\n",
    "df[\"start_hour\"].replace(2, 10, inplace=True) # 1은 21~04시 (변동X)\n",
    "df[\"start_hour\"].replace(3, 2, inplace=True) # 2는 05~07시\n",
    "df[\"start_hour\"].replace(4, 3, inplace=True) # 3은 8~10시\n",
    "df[\"start_hour\"].replace(5, 4, inplace=True) # 4는 11~13시\n",
    "df[\"start_hour\"].replace(6, 5, inplace=True) # 5는 14~16시\n",
    "df[\"start_hour\"].replace(10, 6, inplace=True) # 6은 17~20시\n",
    "\n",
    "\n",
    "# accident_hour\n",
    "df[\"accident_hour\"].replace(2, 10, inplace=True) # 1은 21~04시 (변동X)\n",
    "df[\"accident_hour\"].replace(3, 2, inplace=True) # 2는 05~07시\n",
    "df[\"accident_hour\"].replace(4, 3, inplace=True) # 3은 8~10시\n",
    "df[\"accident_hour\"].replace(5, 4, inplace=True) # 4는 11~13시\n",
    "df[\"accident_hour\"].replace(6, 5, inplace=True) # 5는 14~16시\n",
    "df[\"accident_hour\"].replace(10, 6, inplace=True) # 6은 17~20시\n",
    "\n",
    "\n",
    "# duration\n",
    "df[\"duration\"].replace(5, 10, inplace=True) # 1은 0~1시간대\n",
    "df[\"duration\"].replace(4, 5, inplace=True) # 2는 2~5시간대\n",
    "df[\"duration\"].replace(3, 4, inplace=True) # 3은 6~9시간대\n",
    "df[\"duration\"].replace(2, 3, inplace=True) # 4는 10~36시간대\n",
    "df[\"duration\"].replace(1, 2, inplace=True) # 5는 36시간 초과\n",
    "df[\"duration\"].replace(10, 1, inplace=True)"
   ]
  },
  {
   "cell_type": "code",
   "execution_count": 27,
   "id": "continued-judges",
   "metadata": {},
   "outputs": [],
   "source": [
    "# 사기 데이터와 그렇지 않은 데이터 구분\n",
    "df_yes = df[df[\"fraud_YN\"]==1]\n",
    "df_no = df[df[\"fraud_YN\"]==0]"
   ]
  },
  {
   "cell_type": "code",
   "execution_count": 28,
   "id": "assumed-concentrate",
   "metadata": {},
   "outputs": [],
   "source": [
    "# duration이 3미만 (10시간 이하)인 데이터들만 필터링\n",
    "df_yes_dur123 = df_yes[df_yes.duration <= 3]\n",
    "df_no_dur123 = df_no[df_no.duration <= 3]"
   ]
  },
  {
   "cell_type": "code",
   "execution_count": 29,
   "id": "blind-facing",
   "metadata": {},
   "outputs": [
    {
     "name": "stderr",
     "output_type": "stream",
     "text": [
      "/Users/limhyunsoo/opt/anaconda3/envs/nltk/lib/python3.7/site-packages/ipykernel_launcher.py:2: SettingWithCopyWarning: \n",
      "A value is trying to be set on a copy of a slice from a DataFrame.\n",
      "Try using .loc[row_indexer,col_indexer] = value instead\n",
      "\n",
      "See the caveats in the documentation: https://pandas.pydata.org/pandas-docs/stable/user_guide/indexing.html#returning-a-view-versus-a-copy\n",
      "  \n",
      "/Users/limhyunsoo/opt/anaconda3/envs/nltk/lib/python3.7/site-packages/ipykernel_launcher.py:3: SettingWithCopyWarning: \n",
      "A value is trying to be set on a copy of a slice from a DataFrame.\n",
      "Try using .loc[row_indexer,col_indexer] = value instead\n",
      "\n",
      "See the caveats in the documentation: https://pandas.pydata.org/pandas-docs/stable/user_guide/indexing.html#returning-a-view-versus-a-copy\n",
      "  This is separate from the ipykernel package so we can avoid doing imports until\n"
     ]
    }
   ],
   "source": [
    "# start_hour와 accident_hour 차이를 나타내는 gap열 생성\n",
    "df_yes_dur123[\"gap_start_acci\"] = df_yes_dur123[\"accident_hour\"] - df_yes_dur123[\"start_hour\"]\n",
    "df_no_dur123[\"gap_start_acci\"] = df_no_dur123[\"accident_hour\"] - df_no_dur123[\"start_hour\"]"
   ]
  },
  {
   "cell_type": "code",
   "execution_count": 30,
   "id": "basic-america",
   "metadata": {},
   "outputs": [
    {
     "name": "stdout",
     "output_type": "stream",
     "text": [
      "Normal:  [-7, -6, -5, -4, -3, -2, -1, 0, 1, 2, 3, 4, 5]\n",
      "Fraud:  [-5, 0, 1, 2]\n"
     ]
    }
   ],
   "source": [
    "# gap의 고유값들 확인\n",
    "print(\"Normal: \", sorted(df_no_dur123.gap_start_acci.unique()))\n",
    "print(\"Fraud: \", sorted(df_yes_dur123.gap_start_acci.unique()))"
   ]
  },
  {
   "cell_type": "code",
   "execution_count": 31,
   "id": "otherwise-assist",
   "metadata": {},
   "outputs": [],
   "source": [
    "# 확인 전, 편의상 start_hour, accident_hour, gap_start_acci, duration 열만 추출\n",
    "df_yes_dur123 = df_yes_dur123[[\"start_hour\", \"accident_hour\", \"gap_start_acci\", \"duration\", \"test_set\"]]\n",
    "df_no_dur123 = df_no_dur123[[\"start_hour\", \"accident_hour\", \"gap_start_acci\", \"duration\", \"test_set\"]]"
   ]
  },
  {
   "cell_type": "code",
   "execution_count": 32,
   "id": "serious-portuguese",
   "metadata": {},
   "outputs": [
    {
     "data": {
      "text/html": [
       "<div>\n",
       "<style scoped>\n",
       "    .dataframe tbody tr th:only-of-type {\n",
       "        vertical-align: middle;\n",
       "    }\n",
       "\n",
       "    .dataframe tbody tr th {\n",
       "        vertical-align: top;\n",
       "    }\n",
       "\n",
       "    .dataframe thead th {\n",
       "        text-align: right;\n",
       "    }\n",
       "</style>\n",
       "<table border=\"1\" class=\"dataframe\">\n",
       "  <thead>\n",
       "    <tr style=\"text-align: right;\">\n",
       "      <th></th>\n",
       "      <th>start_hour</th>\n",
       "      <th>accident_hour</th>\n",
       "      <th>gap_start_acci</th>\n",
       "      <th>duration</th>\n",
       "      <th>test_set</th>\n",
       "    </tr>\n",
       "  </thead>\n",
       "  <tbody>\n",
       "    <tr>\n",
       "      <th>143</th>\n",
       "      <td>6</td>\n",
       "      <td>1</td>\n",
       "      <td>-5</td>\n",
       "      <td>2</td>\n",
       "      <td>0</td>\n",
       "    </tr>\n",
       "  </tbody>\n",
       "</table>\n",
       "</div>"
      ],
      "text/plain": [
       "     start_hour  accident_hour  gap_start_acci  duration  test_set\n",
       "143           6              1              -5         2         0"
      ]
     },
     "execution_count": 32,
     "metadata": {},
     "output_type": "execute_result"
    }
   ],
   "source": [
    "# fraud 데이터 중 시간 갭이 -5인 데이터 확인\n",
    "df_yes_dur123[df_yes_dur123[\"gap_start_acci\"]==-5]"
   ]
  },
  {
   "cell_type": "code",
   "execution_count": 33,
   "id": "funny-ecology",
   "metadata": {},
   "outputs": [
    {
     "data": {
      "text/html": [
       "<div>\n",
       "<style scoped>\n",
       "    .dataframe tbody tr th:only-of-type {\n",
       "        vertical-align: middle;\n",
       "    }\n",
       "\n",
       "    .dataframe tbody tr th {\n",
       "        vertical-align: top;\n",
       "    }\n",
       "\n",
       "    .dataframe thead th {\n",
       "        text-align: right;\n",
       "    }\n",
       "</style>\n",
       "<table border=\"1\" class=\"dataframe\">\n",
       "  <thead>\n",
       "    <tr style=\"text-align: right;\">\n",
       "      <th></th>\n",
       "      <th>start_hour</th>\n",
       "      <th>accident_hour</th>\n",
       "      <th>gap_start_acci</th>\n",
       "      <th>duration</th>\n",
       "      <th>test_set</th>\n",
       "    </tr>\n",
       "  </thead>\n",
       "  <tbody>\n",
       "  </tbody>\n",
       "</table>\n",
       "</div>"
      ],
      "text/plain": [
       "Empty DataFrame\n",
       "Columns: [start_hour, accident_hour, gap_start_acci, duration, test_set]\n",
       "Index: []"
      ]
     },
     "execution_count": 33,
     "metadata": {},
     "output_type": "execute_result"
    }
   ],
   "source": [
    "# 일자가 넘어갔기 때문이며, 사실상 gap은 1이므로 값 대치\n",
    "df_yes_dur123[\"gap_start_acci\"].replace(-5, 1, inplace=True)\n",
    "df_yes_dur123[df_yes_dur123[\"gap_start_acci\"]==-5]"
   ]
  },
  {
   "cell_type": "markdown",
   "id": "stretch-encyclopedia",
   "metadata": {},
   "source": [
    "# 1. 사기 데이터 확인 "
   ]
  },
  {
   "cell_type": "code",
   "execution_count": 34,
   "id": "floating-substitute",
   "metadata": {},
   "outputs": [
    {
     "data": {
      "text/html": [
       "<div>\n",
       "<style scoped>\n",
       "    .dataframe tbody tr th:only-of-type {\n",
       "        vertical-align: middle;\n",
       "    }\n",
       "\n",
       "    .dataframe tbody tr th {\n",
       "        vertical-align: top;\n",
       "    }\n",
       "\n",
       "    .dataframe thead th {\n",
       "        text-align: right;\n",
       "    }\n",
       "</style>\n",
       "<table border=\"1\" class=\"dataframe\">\n",
       "  <thead>\n",
       "    <tr style=\"text-align: right;\">\n",
       "      <th></th>\n",
       "      <th>start_hour</th>\n",
       "      <th>accident_hour</th>\n",
       "      <th>gap_start_acci</th>\n",
       "      <th>duration</th>\n",
       "      <th>test_set</th>\n",
       "    </tr>\n",
       "  </thead>\n",
       "  <tbody>\n",
       "    <tr>\n",
       "      <th>18</th>\n",
       "      <td>1</td>\n",
       "      <td>1</td>\n",
       "      <td>0</td>\n",
       "      <td>3</td>\n",
       "      <td>0</td>\n",
       "    </tr>\n",
       "    <tr>\n",
       "      <th>83</th>\n",
       "      <td>5</td>\n",
       "      <td>6</td>\n",
       "      <td>1</td>\n",
       "      <td>3</td>\n",
       "      <td>0</td>\n",
       "    </tr>\n",
       "    <tr>\n",
       "      <th>100</th>\n",
       "      <td>3</td>\n",
       "      <td>3</td>\n",
       "      <td>0</td>\n",
       "      <td>3</td>\n",
       "      <td>1</td>\n",
       "    </tr>\n",
       "    <tr>\n",
       "      <th>143</th>\n",
       "      <td>6</td>\n",
       "      <td>1</td>\n",
       "      <td>1</td>\n",
       "      <td>2</td>\n",
       "      <td>0</td>\n",
       "    </tr>\n",
       "    <tr>\n",
       "      <th>163</th>\n",
       "      <td>4</td>\n",
       "      <td>4</td>\n",
       "      <td>0</td>\n",
       "      <td>3</td>\n",
       "      <td>0</td>\n",
       "    </tr>\n",
       "    <tr>\n",
       "      <th>230</th>\n",
       "      <td>3</td>\n",
       "      <td>3</td>\n",
       "      <td>0</td>\n",
       "      <td>2</td>\n",
       "      <td>0</td>\n",
       "    </tr>\n",
       "    <tr>\n",
       "      <th>364</th>\n",
       "      <td>3</td>\n",
       "      <td>4</td>\n",
       "      <td>1</td>\n",
       "      <td>2</td>\n",
       "      <td>0</td>\n",
       "    </tr>\n",
       "    <tr>\n",
       "      <th>383</th>\n",
       "      <td>6</td>\n",
       "      <td>6</td>\n",
       "      <td>0</td>\n",
       "      <td>3</td>\n",
       "      <td>0</td>\n",
       "    </tr>\n",
       "    <tr>\n",
       "      <th>417</th>\n",
       "      <td>5</td>\n",
       "      <td>5</td>\n",
       "      <td>0</td>\n",
       "      <td>2</td>\n",
       "      <td>0</td>\n",
       "    </tr>\n",
       "    <tr>\n",
       "      <th>436</th>\n",
       "      <td>3</td>\n",
       "      <td>3</td>\n",
       "      <td>0</td>\n",
       "      <td>2</td>\n",
       "      <td>0</td>\n",
       "    </tr>\n",
       "    <tr>\n",
       "      <th>451</th>\n",
       "      <td>4</td>\n",
       "      <td>4</td>\n",
       "      <td>0</td>\n",
       "      <td>3</td>\n",
       "      <td>0</td>\n",
       "    </tr>\n",
       "    <tr>\n",
       "      <th>496</th>\n",
       "      <td>4</td>\n",
       "      <td>6</td>\n",
       "      <td>2</td>\n",
       "      <td>2</td>\n",
       "      <td>1</td>\n",
       "    </tr>\n",
       "    <tr>\n",
       "      <th>512</th>\n",
       "      <td>4</td>\n",
       "      <td>4</td>\n",
       "      <td>0</td>\n",
       "      <td>3</td>\n",
       "      <td>0</td>\n",
       "    </tr>\n",
       "    <tr>\n",
       "      <th>528</th>\n",
       "      <td>3</td>\n",
       "      <td>3</td>\n",
       "      <td>0</td>\n",
       "      <td>2</td>\n",
       "      <td>0</td>\n",
       "    </tr>\n",
       "    <tr>\n",
       "      <th>4671</th>\n",
       "      <td>1</td>\n",
       "      <td>1</td>\n",
       "      <td>0</td>\n",
       "      <td>3</td>\n",
       "      <td>0</td>\n",
       "    </tr>\n",
       "    <tr>\n",
       "      <th>5099</th>\n",
       "      <td>1</td>\n",
       "      <td>1</td>\n",
       "      <td>0</td>\n",
       "      <td>2</td>\n",
       "      <td>0</td>\n",
       "    </tr>\n",
       "    <tr>\n",
       "      <th>5647</th>\n",
       "      <td>2</td>\n",
       "      <td>3</td>\n",
       "      <td>1</td>\n",
       "      <td>2</td>\n",
       "      <td>0</td>\n",
       "    </tr>\n",
       "  </tbody>\n",
       "</table>\n",
       "</div>"
      ],
      "text/plain": [
       "      start_hour  accident_hour  gap_start_acci  duration  test_set\n",
       "18             1              1               0         3         0\n",
       "83             5              6               1         3         0\n",
       "100            3              3               0         3         1\n",
       "143            6              1               1         2         0\n",
       "163            4              4               0         3         0\n",
       "230            3              3               0         2         0\n",
       "364            3              4               1         2         0\n",
       "383            6              6               0         3         0\n",
       "417            5              5               0         2         0\n",
       "436            3              3               0         2         0\n",
       "451            4              4               0         3         0\n",
       "496            4              6               2         2         1\n",
       "512            4              4               0         3         0\n",
       "528            3              3               0         2         0\n",
       "4671           1              1               0         3         0\n",
       "5099           1              1               0         2         0\n",
       "5647           2              3               1         2         0"
      ]
     },
     "execution_count": 34,
     "metadata": {},
     "output_type": "execute_result"
    }
   ],
   "source": [
    "# 확인결과, 사기데이터 17건에는 이상 없음\n",
    "df_yes_dur123"
   ]
  },
  {
   "cell_type": "code",
   "execution_count": 43,
   "id": "emotional-hayes",
   "metadata": {},
   "outputs": [
    {
     "data": {
      "text/plain": [
       "[-7, -6, -5, -4, -3, -2, -1, 0, 1, 2, 3, 4, 5]"
      ]
     },
     "execution_count": 43,
     "metadata": {},
     "output_type": "execute_result"
    }
   ],
   "source": [
    "# 이제, 정상데이터 중 train데이터만 골라내서, 지워야 할 인덱스들을 뽑아낼 것\n",
    "# 먼저 지울 인덱스 리스트부터 만들고, gap이 어떻게 나왔나 보자 -> 다양하네..\n",
    "list_for_del = []\n",
    "sorted(df_no_dur123.gap_start_acci.unique())"
   ]
  },
  {
   "cell_type": "markdown",
   "id": "respective-fever",
   "metadata": {},
   "source": [
    "# 2. 정상 데이터 확인"
   ]
  },
  {
   "cell_type": "markdown",
   "id": "unsigned-thriller",
   "metadata": {},
   "source": [
    "## 1) gap<0인 경우"
   ]
  },
  {
   "cell_type": "code",
   "execution_count": 37,
   "id": "primary-tower",
   "metadata": {},
   "outputs": [
    {
     "data": {
      "text/plain": [
       "(array([-1,  1,  2,  3,  4,  5]), array([  17, 1130,    6,    9,    3,    8]))"
      ]
     },
     "execution_count": 37,
     "metadata": {},
     "output_type": "execute_result"
    }
   ],
   "source": [
    "# 우선 gap<0인 경우부터 보자 -> accident_hour==1이 절대다수다\n",
    "np.unique(df_no_dur123[df_no_dur123[\"gap_start_acci\"]<0][\"accident_hour\"],\n",
    "         return_counts=True)"
   ]
  },
  {
   "cell_type": "code",
   "execution_count": 141,
   "id": "jewish-wilderness",
   "metadata": {},
   "outputs": [
    {
     "name": "stderr",
     "output_type": "stream",
     "text": [
      "/Users/limhyunsoo/opt/anaconda3/envs/nltk/lib/python3.7/site-packages/seaborn/_decorators.py:43: FutureWarning: Pass the following variable as a keyword arg: x. From version 0.12, the only valid positional argument will be `data`, and passing other arguments without an explicit keyword will result in an error or misinterpretation.\n",
      "  FutureWarning\n"
     ]
    },
    {
     "data": {
      "image/png": "[encoded data removed]",
      "text/plain": [
       "<Figure size 432x288 with 1 Axes>"
      ]
     },
     "metadata": {
      "image/png": {
       "height": 262,
       "width": 395
      },
      "needs_background": "light"
     },
     "output_type": "display_data"
    }
   ],
   "source": [
    "# 1이 절대다수인 거 다시 확인\n",
    "import matplotlib.pyplot as plt\n",
    "import seaborn as sns\n",
    "\n",
    "sns.countplot(df_no_dur123[df_no_dur123[\"gap_start_acci\"]<0][\"accident_hour\"]);"
   ]
  },
  {
   "cell_type": "markdown",
   "id": "filled-friday",
   "metadata": {},
   "source": [
    "### 일단 절대다수인 accident_hour==1 애들만 봐보자"
   ]
  },
  {
   "cell_type": "code",
   "execution_count": 38,
   "id": "interior-armor",
   "metadata": {},
   "outputs": [
    {
     "name": "stderr",
     "output_type": "stream",
     "text": [
      "/Users/limhyunsoo/opt/anaconda3/envs/nltk/lib/python3.7/site-packages/ipykernel_launcher.py:3: UserWarning: Boolean Series key will be reindexed to match DataFrame index.\n",
      "  This is separate from the ipykernel package so we can avoid doing imports until\n"
     ]
    },
    {
     "data": {
      "text/plain": [
       "(array([2, 3, 4, 5, 6]), array([  4,  16,  28, 177, 905]))"
      ]
     },
     "execution_count": 38,
     "metadata": {},
     "output_type": "execute_result"
    }
   ],
   "source": [
    "# 사고시각 1인 애들만 봐보자 -> start_hour 기준 데이터 수가 6>5>4>3>2 순이다. 차례대로 보자..\n",
    "np.unique(df_no_dur123[df_no_dur123[\"gap_start_acci\"]<0]\\\n",
    "[df_no_dur123[\"accident_hour\"]==1][\"start_hour\"], return_counts=True)"
   ]
  },
  {
   "cell_type": "markdown",
   "id": "dress-candy",
   "metadata": {},
   "source": [
    "### (1) start_hour==6"
   ]
  },
  {
   "cell_type": "code",
   "execution_count": 41,
   "id": "endangered-engineer",
   "metadata": {},
   "outputs": [
    {
     "name": "stderr",
     "output_type": "stream",
     "text": [
      "/Users/limhyunsoo/opt/anaconda3/envs/nltk/lib/python3.7/site-packages/ipykernel_launcher.py:3: UserWarning: Boolean Series key will be reindexed to match DataFrame index.\n",
      "  This is separate from the ipykernel package so we can avoid doing imports until\n",
      "/Users/limhyunsoo/opt/anaconda3/envs/nltk/lib/python3.7/site-packages/ipykernel_launcher.py:3: UserWarning: Boolean Series key will be reindexed to match DataFrame index.\n",
      "  This is separate from the ipykernel package so we can avoid doing imports until\n"
     ]
    },
    {
     "data": {
      "text/html": [
       "<div>\n",
       "<style scoped>\n",
       "    .dataframe tbody tr th:only-of-type {\n",
       "        vertical-align: middle;\n",
       "    }\n",
       "\n",
       "    .dataframe tbody tr th {\n",
       "        vertical-align: top;\n",
       "    }\n",
       "\n",
       "    .dataframe thead th {\n",
       "        text-align: right;\n",
       "    }\n",
       "</style>\n",
       "<table border=\"1\" class=\"dataframe\">\n",
       "  <thead>\n",
       "    <tr style=\"text-align: right;\">\n",
       "      <th></th>\n",
       "      <th>start_hour</th>\n",
       "      <th>accident_hour</th>\n",
       "      <th>gap_start_acci</th>\n",
       "      <th>duration</th>\n",
       "      <th>test_set</th>\n",
       "    </tr>\n",
       "  </thead>\n",
       "  <tbody>\n",
       "    <tr>\n",
       "      <th>24</th>\n",
       "      <td>6</td>\n",
       "      <td>1</td>\n",
       "      <td>-5</td>\n",
       "      <td>3</td>\n",
       "      <td>0</td>\n",
       "    </tr>\n",
       "    <tr>\n",
       "      <th>38</th>\n",
       "      <td>6</td>\n",
       "      <td>1</td>\n",
       "      <td>-5</td>\n",
       "      <td>2</td>\n",
       "      <td>0</td>\n",
       "    </tr>\n",
       "    <tr>\n",
       "      <th>41</th>\n",
       "      <td>6</td>\n",
       "      <td>1</td>\n",
       "      <td>-5</td>\n",
       "      <td>2</td>\n",
       "      <td>0</td>\n",
       "    </tr>\n",
       "    <tr>\n",
       "      <th>54</th>\n",
       "      <td>6</td>\n",
       "      <td>1</td>\n",
       "      <td>-5</td>\n",
       "      <td>2</td>\n",
       "      <td>1</td>\n",
       "    </tr>\n",
       "    <tr>\n",
       "      <th>55</th>\n",
       "      <td>6</td>\n",
       "      <td>1</td>\n",
       "      <td>-5</td>\n",
       "      <td>3</td>\n",
       "      <td>1</td>\n",
       "    </tr>\n",
       "    <tr>\n",
       "      <th>...</th>\n",
       "      <td>...</td>\n",
       "      <td>...</td>\n",
       "      <td>...</td>\n",
       "      <td>...</td>\n",
       "      <td>...</td>\n",
       "    </tr>\n",
       "    <tr>\n",
       "      <th>15861</th>\n",
       "      <td>6</td>\n",
       "      <td>1</td>\n",
       "      <td>-5</td>\n",
       "      <td>2</td>\n",
       "      <td>1</td>\n",
       "    </tr>\n",
       "    <tr>\n",
       "      <th>15870</th>\n",
       "      <td>6</td>\n",
       "      <td>1</td>\n",
       "      <td>-5</td>\n",
       "      <td>3</td>\n",
       "      <td>0</td>\n",
       "    </tr>\n",
       "    <tr>\n",
       "      <th>15917</th>\n",
       "      <td>6</td>\n",
       "      <td>1</td>\n",
       "      <td>-5</td>\n",
       "      <td>2</td>\n",
       "      <td>0</td>\n",
       "    </tr>\n",
       "    <tr>\n",
       "      <th>15931</th>\n",
       "      <td>6</td>\n",
       "      <td>1</td>\n",
       "      <td>-5</td>\n",
       "      <td>2</td>\n",
       "      <td>1</td>\n",
       "    </tr>\n",
       "    <tr>\n",
       "      <th>15967</th>\n",
       "      <td>6</td>\n",
       "      <td>1</td>\n",
       "      <td>-5</td>\n",
       "      <td>3</td>\n",
       "      <td>0</td>\n",
       "    </tr>\n",
       "  </tbody>\n",
       "</table>\n",
       "<p>905 rows × 5 columns</p>\n",
       "</div>"
      ],
      "text/plain": [
       "       start_hour  accident_hour  gap_start_acci  duration  test_set\n",
       "24              6              1              -5         3         0\n",
       "38              6              1              -5         2         0\n",
       "41              6              1              -5         2         0\n",
       "54              6              1              -5         2         1\n",
       "55              6              1              -5         3         1\n",
       "...           ...            ...             ...       ...       ...\n",
       "15861           6              1              -5         2         1\n",
       "15870           6              1              -5         3         0\n",
       "15917           6              1              -5         2         0\n",
       "15931           6              1              -5         2         1\n",
       "15967           6              1              -5         3         0\n",
       "\n",
       "[905 rows x 5 columns]"
      ]
     },
     "execution_count": 41,
     "metadata": {},
     "output_type": "execute_result"
    }
   ],
   "source": [
    "# 6부터 -> 6에서 1은 사실 갭이 1로, 모든 duration에 대해 가능 -> 문제없음\n",
    "df_no_dur123[df_no_dur123[\"gap_start_acci\"]<0]\\\n",
    "[df_no_dur123[\"accident_hour\"]==1][df_no_dur123[\"start_hour\"]==6]\\"
   ]
  },
  {
   "cell_type": "markdown",
   "id": "satellite-schema",
   "metadata": {},
   "source": [
    "### (2) start_hour==5"
   ]
  },
  {
   "cell_type": "code",
   "execution_count": 45,
   "id": "corporate-huntington",
   "metadata": {},
   "outputs": [
    {
     "name": "stderr",
     "output_type": "stream",
     "text": [
      "/Users/limhyunsoo/opt/anaconda3/envs/nltk/lib/python3.7/site-packages/ipykernel_launcher.py:3: UserWarning: Boolean Series key will be reindexed to match DataFrame index.\n",
      "  This is separate from the ipykernel package so we can avoid doing imports until\n",
      "/Users/limhyunsoo/opt/anaconda3/envs/nltk/lib/python3.7/site-packages/ipykernel_launcher.py:3: UserWarning: Boolean Series key will be reindexed to match DataFrame index.\n",
      "  This is separate from the ipykernel package so we can avoid doing imports until\n",
      "/Users/limhyunsoo/opt/anaconda3/envs/nltk/lib/python3.7/site-packages/ipykernel_launcher.py:4: UserWarning: Boolean Series key will be reindexed to match DataFrame index.\n",
      "  after removing the cwd from sys.path.\n"
     ]
    },
    {
     "data": {
      "text/html": [
       "<div>\n",
       "<style scoped>\n",
       "    .dataframe tbody tr th:only-of-type {\n",
       "        vertical-align: middle;\n",
       "    }\n",
       "\n",
       "    .dataframe tbody tr th {\n",
       "        vertical-align: top;\n",
       "    }\n",
       "\n",
       "    .dataframe thead th {\n",
       "        text-align: right;\n",
       "    }\n",
       "</style>\n",
       "<table border=\"1\" class=\"dataframe\">\n",
       "  <thead>\n",
       "    <tr style=\"text-align: right;\">\n",
       "      <th></th>\n",
       "      <th>start_hour</th>\n",
       "      <th>accident_hour</th>\n",
       "      <th>gap_start_acci</th>\n",
       "      <th>duration</th>\n",
       "      <th>test_set</th>\n",
       "    </tr>\n",
       "  </thead>\n",
       "  <tbody>\n",
       "    <tr>\n",
       "      <th>9837</th>\n",
       "      <td>5</td>\n",
       "      <td>1</td>\n",
       "      <td>-4</td>\n",
       "      <td>1</td>\n",
       "      <td>1</td>\n",
       "    </tr>\n",
       "  </tbody>\n",
       "</table>\n",
       "</div>"
      ],
      "text/plain": [
       "      start_hour  accident_hour  gap_start_acci  duration  test_set\n",
       "9837           5              1              -4         1         1"
      ]
     },
     "execution_count": 45,
     "metadata": {},
     "output_type": "execute_result"
    }
   ],
   "source": [
    "# 5 -> duration이 1이면 말이 안됨 -> 1가지 경우 존재\n",
    "# 하지만 test 데이터라 지우지는 못함ㅠㅠ\n",
    "df_no_dur123[df_no_dur123[\"gap_start_acci\"]<0]\\\n",
    "[df_no_dur123[\"accident_hour\"]==1][df_no_dur123[\"start_hour\"]==5]\\\n",
    "[df_no_dur123[\"duration\"]==1]"
   ]
  },
  {
   "cell_type": "markdown",
   "id": "electoral-assist",
   "metadata": {},
   "source": [
    "### (3) start_hour==4"
   ]
  },
  {
   "cell_type": "code",
   "execution_count": 52,
   "id": "flying-optimum",
   "metadata": {},
   "outputs": [
    {
     "name": "stderr",
     "output_type": "stream",
     "text": [
      "/Users/limhyunsoo/opt/anaconda3/envs/nltk/lib/python3.7/site-packages/ipykernel_launcher.py:5: UserWarning: Boolean Series key will be reindexed to match DataFrame index.\n",
      "  \"\"\"\n",
      "/Users/limhyunsoo/opt/anaconda3/envs/nltk/lib/python3.7/site-packages/ipykernel_launcher.py:5: UserWarning: Boolean Series key will be reindexed to match DataFrame index.\n",
      "  \"\"\"\n",
      "/Users/limhyunsoo/opt/anaconda3/envs/nltk/lib/python3.7/site-packages/ipykernel_launcher.py:6: UserWarning: Boolean Series key will be reindexed to match DataFrame index.\n",
      "  \n"
     ]
    },
    {
     "data": {
      "text/html": [
       "<div>\n",
       "<style scoped>\n",
       "    .dataframe tbody tr th:only-of-type {\n",
       "        vertical-align: middle;\n",
       "    }\n",
       "\n",
       "    .dataframe tbody tr th {\n",
       "        vertical-align: top;\n",
       "    }\n",
       "\n",
       "    .dataframe thead th {\n",
       "        text-align: right;\n",
       "    }\n",
       "</style>\n",
       "<table border=\"1\" class=\"dataframe\">\n",
       "  <thead>\n",
       "    <tr style=\"text-align: right;\">\n",
       "      <th></th>\n",
       "      <th>start_hour</th>\n",
       "      <th>accident_hour</th>\n",
       "      <th>gap_start_acci</th>\n",
       "      <th>duration</th>\n",
       "      <th>test_set</th>\n",
       "    </tr>\n",
       "  </thead>\n",
       "  <tbody>\n",
       "    <tr>\n",
       "      <th>43</th>\n",
       "      <td>4</td>\n",
       "      <td>1</td>\n",
       "      <td>-3</td>\n",
       "      <td>2</td>\n",
       "      <td>0</td>\n",
       "    </tr>\n",
       "    <tr>\n",
       "      <th>1504</th>\n",
       "      <td>4</td>\n",
       "      <td>1</td>\n",
       "      <td>-3</td>\n",
       "      <td>1</td>\n",
       "      <td>0</td>\n",
       "    </tr>\n",
       "    <tr>\n",
       "      <th>1762</th>\n",
       "      <td>4</td>\n",
       "      <td>1</td>\n",
       "      <td>-3</td>\n",
       "      <td>2</td>\n",
       "      <td>0</td>\n",
       "    </tr>\n",
       "    <tr>\n",
       "      <th>1766</th>\n",
       "      <td>4</td>\n",
       "      <td>1</td>\n",
       "      <td>-3</td>\n",
       "      <td>2</td>\n",
       "      <td>1</td>\n",
       "    </tr>\n",
       "    <tr>\n",
       "      <th>11706</th>\n",
       "      <td>4</td>\n",
       "      <td>1</td>\n",
       "      <td>-3</td>\n",
       "      <td>2</td>\n",
       "      <td>0</td>\n",
       "    </tr>\n",
       "    <tr>\n",
       "      <th>12031</th>\n",
       "      <td>4</td>\n",
       "      <td>1</td>\n",
       "      <td>-3</td>\n",
       "      <td>2</td>\n",
       "      <td>0</td>\n",
       "    </tr>\n",
       "    <tr>\n",
       "      <th>12665</th>\n",
       "      <td>4</td>\n",
       "      <td>1</td>\n",
       "      <td>-3</td>\n",
       "      <td>2</td>\n",
       "      <td>0</td>\n",
       "    </tr>\n",
       "  </tbody>\n",
       "</table>\n",
       "</div>"
      ],
      "text/plain": [
       "       start_hour  accident_hour  gap_start_acci  duration  test_set\n",
       "43              4              1              -3         2         0\n",
       "1504            4              1              -3         1         0\n",
       "1762            4              1              -3         2         0\n",
       "1766            4              1              -3         2         1\n",
       "11706           4              1              -3         2         0\n",
       "12031           4              1              -3         2         0\n",
       "12665           4              1              -3         2         0"
      ]
     },
     "execution_count": 52,
     "metadata": {},
     "output_type": "execute_result"
    }
   ],
   "source": [
    "# 4 -> 최소 8시간차로, duration이 1,2이면 말이 안됨\n",
    "# test 데이터 아닌 경우 6개 존재 -> list_del 리스트에 추가\n",
    "\n",
    "tmp = df_no_dur123[df_no_dur123[\"gap_start_acci\"]<0]\\\n",
    "[df_no_dur123[\"accident_hour\"]==1][df_no_dur123[\"start_hour\"]==4]\\\n",
    "[df_no_dur123[\"duration\"].isin([1,2])]\n",
    "\n",
    "list_for_del.extend(tmp[tmp[\"test_set\"]==0].index)\n",
    "tmp"
   ]
  },
  {
   "cell_type": "markdown",
   "id": "structured-imaging",
   "metadata": {},
   "source": [
    "### (4) start_hour==3"
   ]
  },
  {
   "cell_type": "code",
   "execution_count": 58,
   "id": "labeled-synthesis",
   "metadata": {},
   "outputs": [
    {
     "name": "stderr",
     "output_type": "stream",
     "text": [
      "/Users/limhyunsoo/opt/anaconda3/envs/nltk/lib/python3.7/site-packages/ipykernel_launcher.py:5: UserWarning: Boolean Series key will be reindexed to match DataFrame index.\n",
      "  \"\"\"\n",
      "/Users/limhyunsoo/opt/anaconda3/envs/nltk/lib/python3.7/site-packages/ipykernel_launcher.py:5: UserWarning: Boolean Series key will be reindexed to match DataFrame index.\n",
      "  \"\"\"\n"
     ]
    },
    {
     "data": {
      "text/html": [
       "<div>\n",
       "<style scoped>\n",
       "    .dataframe tbody tr th:only-of-type {\n",
       "        vertical-align: middle;\n",
       "    }\n",
       "\n",
       "    .dataframe tbody tr th {\n",
       "        vertical-align: top;\n",
       "    }\n",
       "\n",
       "    .dataframe thead th {\n",
       "        text-align: right;\n",
       "    }\n",
       "</style>\n",
       "<table border=\"1\" class=\"dataframe\">\n",
       "  <thead>\n",
       "    <tr style=\"text-align: right;\">\n",
       "      <th></th>\n",
       "      <th>start_hour</th>\n",
       "      <th>accident_hour</th>\n",
       "      <th>gap_start_acci</th>\n",
       "      <th>duration</th>\n",
       "      <th>test_set</th>\n",
       "    </tr>\n",
       "  </thead>\n",
       "  <tbody>\n",
       "    <tr>\n",
       "      <th>480</th>\n",
       "      <td>3</td>\n",
       "      <td>1</td>\n",
       "      <td>-2</td>\n",
       "      <td>2</td>\n",
       "      <td>0</td>\n",
       "    </tr>\n",
       "    <tr>\n",
       "      <th>4515</th>\n",
       "      <td>3</td>\n",
       "      <td>1</td>\n",
       "      <td>-2</td>\n",
       "      <td>2</td>\n",
       "      <td>0</td>\n",
       "    </tr>\n",
       "    <tr>\n",
       "      <th>4651</th>\n",
       "      <td>3</td>\n",
       "      <td>1</td>\n",
       "      <td>-2</td>\n",
       "      <td>2</td>\n",
       "      <td>0</td>\n",
       "    </tr>\n",
       "    <tr>\n",
       "      <th>5921</th>\n",
       "      <td>3</td>\n",
       "      <td>1</td>\n",
       "      <td>-2</td>\n",
       "      <td>2</td>\n",
       "      <td>1</td>\n",
       "    </tr>\n",
       "    <tr>\n",
       "      <th>8596</th>\n",
       "      <td>3</td>\n",
       "      <td>1</td>\n",
       "      <td>-2</td>\n",
       "      <td>3</td>\n",
       "      <td>0</td>\n",
       "    </tr>\n",
       "    <tr>\n",
       "      <th>9904</th>\n",
       "      <td>3</td>\n",
       "      <td>1</td>\n",
       "      <td>-2</td>\n",
       "      <td>3</td>\n",
       "      <td>0</td>\n",
       "    </tr>\n",
       "    <tr>\n",
       "      <th>10635</th>\n",
       "      <td>3</td>\n",
       "      <td>1</td>\n",
       "      <td>-2</td>\n",
       "      <td>3</td>\n",
       "      <td>0</td>\n",
       "    </tr>\n",
       "    <tr>\n",
       "      <th>11104</th>\n",
       "      <td>3</td>\n",
       "      <td>1</td>\n",
       "      <td>-2</td>\n",
       "      <td>2</td>\n",
       "      <td>0</td>\n",
       "    </tr>\n",
       "    <tr>\n",
       "      <th>11120</th>\n",
       "      <td>3</td>\n",
       "      <td>1</td>\n",
       "      <td>-2</td>\n",
       "      <td>1</td>\n",
       "      <td>0</td>\n",
       "    </tr>\n",
       "    <tr>\n",
       "      <th>11420</th>\n",
       "      <td>3</td>\n",
       "      <td>1</td>\n",
       "      <td>-2</td>\n",
       "      <td>2</td>\n",
       "      <td>1</td>\n",
       "    </tr>\n",
       "    <tr>\n",
       "      <th>11994</th>\n",
       "      <td>3</td>\n",
       "      <td>1</td>\n",
       "      <td>-2</td>\n",
       "      <td>2</td>\n",
       "      <td>0</td>\n",
       "    </tr>\n",
       "    <tr>\n",
       "      <th>12956</th>\n",
       "      <td>3</td>\n",
       "      <td>1</td>\n",
       "      <td>-2</td>\n",
       "      <td>2</td>\n",
       "      <td>0</td>\n",
       "    </tr>\n",
       "    <tr>\n",
       "      <th>12972</th>\n",
       "      <td>3</td>\n",
       "      <td>1</td>\n",
       "      <td>-2</td>\n",
       "      <td>3</td>\n",
       "      <td>0</td>\n",
       "    </tr>\n",
       "    <tr>\n",
       "      <th>14533</th>\n",
       "      <td>3</td>\n",
       "      <td>1</td>\n",
       "      <td>-2</td>\n",
       "      <td>2</td>\n",
       "      <td>0</td>\n",
       "    </tr>\n",
       "    <tr>\n",
       "      <th>14792</th>\n",
       "      <td>3</td>\n",
       "      <td>1</td>\n",
       "      <td>-2</td>\n",
       "      <td>2</td>\n",
       "      <td>0</td>\n",
       "    </tr>\n",
       "    <tr>\n",
       "      <th>15242</th>\n",
       "      <td>3</td>\n",
       "      <td>1</td>\n",
       "      <td>-2</td>\n",
       "      <td>2</td>\n",
       "      <td>0</td>\n",
       "    </tr>\n",
       "  </tbody>\n",
       "</table>\n",
       "</div>"
      ],
      "text/plain": [
       "       start_hour  accident_hour  gap_start_acci  duration  test_set\n",
       "480             3              1              -2         2         0\n",
       "4515            3              1              -2         2         0\n",
       "4651            3              1              -2         2         0\n",
       "5921            3              1              -2         2         1\n",
       "8596            3              1              -2         3         0\n",
       "9904            3              1              -2         3         0\n",
       "10635           3              1              -2         3         0\n",
       "11104           3              1              -2         2         0\n",
       "11120           3              1              -2         1         0\n",
       "11420           3              1              -2         2         1\n",
       "11994           3              1              -2         2         0\n",
       "12956           3              1              -2         2         0\n",
       "12972           3              1              -2         3         0\n",
       "14533           3              1              -2         2         0\n",
       "14792           3              1              -2         2         0\n",
       "15242           3              1              -2         2         0"
      ]
     },
     "execution_count": 58,
     "metadata": {},
     "output_type": "execute_result"
    }
   ],
   "source": [
    "# 3 -> 최소 11시간차로, 여기부터는 duration이 1,2,3으로 커버 안됨\n",
    "# test 데이터 아닌 경우 14개 존재 -> list_del 리스트에 추가\n",
    "\n",
    "tmp = df_no_dur123[df_no_dur123[\"gap_start_acci\"]<0]\\\n",
    "[df_no_dur123[\"accident_hour\"]==1][df_no_dur123[\"start_hour\"]==3]\n",
    "\n",
    "list_for_del.extend(tmp[tmp[\"test_set\"]==0].index)\n",
    "tmp"
   ]
  },
  {
   "cell_type": "markdown",
   "id": "forty-reduction",
   "metadata": {},
   "source": [
    "### (5) start_hour==2"
   ]
  },
  {
   "cell_type": "code",
   "execution_count": 62,
   "id": "addressed-making",
   "metadata": {},
   "outputs": [
    {
     "name": "stderr",
     "output_type": "stream",
     "text": [
      "/Users/limhyunsoo/opt/anaconda3/envs/nltk/lib/python3.7/site-packages/ipykernel_launcher.py:5: UserWarning: Boolean Series key will be reindexed to match DataFrame index.\n",
      "  \"\"\"\n",
      "/Users/limhyunsoo/opt/anaconda3/envs/nltk/lib/python3.7/site-packages/ipykernel_launcher.py:5: UserWarning: Boolean Series key will be reindexed to match DataFrame index.\n",
      "  \"\"\"\n"
     ]
    },
    {
     "data": {
      "text/html": [
       "<div>\n",
       "<style scoped>\n",
       "    .dataframe tbody tr th:only-of-type {\n",
       "        vertical-align: middle;\n",
       "    }\n",
       "\n",
       "    .dataframe tbody tr th {\n",
       "        vertical-align: top;\n",
       "    }\n",
       "\n",
       "    .dataframe thead th {\n",
       "        text-align: right;\n",
       "    }\n",
       "</style>\n",
       "<table border=\"1\" class=\"dataframe\">\n",
       "  <thead>\n",
       "    <tr style=\"text-align: right;\">\n",
       "      <th></th>\n",
       "      <th>start_hour</th>\n",
       "      <th>accident_hour</th>\n",
       "      <th>gap_start_acci</th>\n",
       "      <th>duration</th>\n",
       "      <th>test_set</th>\n",
       "    </tr>\n",
       "  </thead>\n",
       "  <tbody>\n",
       "    <tr>\n",
       "      <th>209</th>\n",
       "      <td>2</td>\n",
       "      <td>1</td>\n",
       "      <td>-1</td>\n",
       "      <td>2</td>\n",
       "      <td>0</td>\n",
       "    </tr>\n",
       "    <tr>\n",
       "      <th>268</th>\n",
       "      <td>2</td>\n",
       "      <td>1</td>\n",
       "      <td>-1</td>\n",
       "      <td>2</td>\n",
       "      <td>0</td>\n",
       "    </tr>\n",
       "    <tr>\n",
       "      <th>4782</th>\n",
       "      <td>2</td>\n",
       "      <td>1</td>\n",
       "      <td>-1</td>\n",
       "      <td>3</td>\n",
       "      <td>1</td>\n",
       "    </tr>\n",
       "    <tr>\n",
       "      <th>12132</th>\n",
       "      <td>2</td>\n",
       "      <td>1</td>\n",
       "      <td>-1</td>\n",
       "      <td>2</td>\n",
       "      <td>0</td>\n",
       "    </tr>\n",
       "  </tbody>\n",
       "</table>\n",
       "</div>"
      ],
      "text/plain": [
       "       start_hour  accident_hour  gap_start_acci  duration  test_set\n",
       "209             2              1              -1         2         0\n",
       "268             2              1              -1         2         0\n",
       "4782            2              1              -1         3         1\n",
       "12132           2              1              -1         2         0"
      ]
     },
     "execution_count": 62,
     "metadata": {},
     "output_type": "execute_result"
    }
   ],
   "source": [
    "# 2 -> 최소 14시간차로, 여기부터는 duration이 1,2,3으로 커버 안됨\n",
    "# test 데이터 아닌 경우 3개 존재 -> list_del 리스트에 추가\n",
    "\n",
    "tmp = df_no_dur123[df_no_dur123[\"gap_start_acci\"]<0]\\\n",
    "[df_no_dur123[\"accident_hour\"]==1][df_no_dur123[\"start_hour\"]==2]\n",
    "\n",
    "list_for_del.extend(tmp[tmp[\"test_set\"]==0].index)\n",
    "tmp"
   ]
  },
  {
   "cell_type": "markdown",
   "id": "furnished-needle",
   "metadata": {},
   "source": [
    "## 2) gap>0인 경우"
   ]
  },
  {
   "cell_type": "code",
   "execution_count": 67,
   "id": "attended-mozambique",
   "metadata": {},
   "outputs": [
    {
     "data": {
      "text/plain": [
       "(array([2, 3, 4, 5, 6]), array([  99,  110,  702, 1465, 1637]))"
      ]
     },
     "execution_count": 67,
     "metadata": {},
     "output_type": "execute_result"
    }
   ],
   "source": [
    "# 이제 gap>0인 경우도 보자 ->  (갭이 0은 오류가 없을 것이고, null값 처리는 여기서는 고려하지 않음)\n",
    "np.unique(df_no_dur123[df_no_dur123[\"gap_start_acci\"]>0][\"accident_hour\"],\n",
    "         return_counts=True)"
   ]
  },
  {
   "cell_type": "markdown",
   "id": "recognized-pharmacy",
   "metadata": {},
   "source": [
    "### accident_hour=2,3,4,5,6에 대해서 차례대로 해보자.."
   ]
  },
  {
   "cell_type": "markdown",
   "id": "pointed-midwest",
   "metadata": {},
   "source": [
    "### **** accident_hour=6 ****"
   ]
  },
  {
   "cell_type": "code",
   "execution_count": 74,
   "id": "incorporated-edmonton",
   "metadata": {},
   "outputs": [
    {
     "name": "stderr",
     "output_type": "stream",
     "text": [
      "/Users/limhyunsoo/opt/anaconda3/envs/nltk/lib/python3.7/site-packages/ipykernel_launcher.py:2: UserWarning: Boolean Series key will be reindexed to match DataFrame index.\n",
      "  \n"
     ]
    },
    {
     "data": {
      "text/plain": [
       "[1, 2, 3, 4, 5]"
      ]
     },
     "execution_count": 74,
     "metadata": {},
     "output_type": "execute_result"
    }
   ],
   "source": [
    "sorted(df_no_dur123[df_no_dur123[\"gap_start_acci\"]>0]\\\n",
    "[df_no_dur123[\"accident_hour\"]==6][\"start_hour\"].unique())"
   ]
  },
  {
   "cell_type": "markdown",
   "id": "satellite-priority",
   "metadata": {},
   "source": [
    "### (1) start_hour==5"
   ]
  },
  {
   "cell_type": "code",
   "execution_count": 75,
   "id": "working-space",
   "metadata": {},
   "outputs": [
    {
     "name": "stderr",
     "output_type": "stream",
     "text": [
      "/Users/limhyunsoo/opt/anaconda3/envs/nltk/lib/python3.7/site-packages/ipykernel_launcher.py:3: UserWarning: Boolean Series key will be reindexed to match DataFrame index.\n",
      "  This is separate from the ipykernel package so we can avoid doing imports until\n",
      "/Users/limhyunsoo/opt/anaconda3/envs/nltk/lib/python3.7/site-packages/ipykernel_launcher.py:3: UserWarning: Boolean Series key will be reindexed to match DataFrame index.\n",
      "  This is separate from the ipykernel package so we can avoid doing imports until\n"
     ]
    },
    {
     "data": {
      "text/html": [
       "<div>\n",
       "<style scoped>\n",
       "    .dataframe tbody tr th:only-of-type {\n",
       "        vertical-align: middle;\n",
       "    }\n",
       "\n",
       "    .dataframe tbody tr th {\n",
       "        vertical-align: top;\n",
       "    }\n",
       "\n",
       "    .dataframe thead th {\n",
       "        text-align: right;\n",
       "    }\n",
       "</style>\n",
       "<table border=\"1\" class=\"dataframe\">\n",
       "  <thead>\n",
       "    <tr style=\"text-align: right;\">\n",
       "      <th></th>\n",
       "      <th>start_hour</th>\n",
       "      <th>accident_hour</th>\n",
       "      <th>gap_start_acci</th>\n",
       "      <th>duration</th>\n",
       "      <th>test_set</th>\n",
       "    </tr>\n",
       "  </thead>\n",
       "  <tbody>\n",
       "    <tr>\n",
       "      <th>84</th>\n",
       "      <td>5</td>\n",
       "      <td>6</td>\n",
       "      <td>1</td>\n",
       "      <td>2</td>\n",
       "      <td>0</td>\n",
       "    </tr>\n",
       "    <tr>\n",
       "      <th>85</th>\n",
       "      <td>5</td>\n",
       "      <td>6</td>\n",
       "      <td>1</td>\n",
       "      <td>2</td>\n",
       "      <td>0</td>\n",
       "    </tr>\n",
       "    <tr>\n",
       "      <th>97</th>\n",
       "      <td>5</td>\n",
       "      <td>6</td>\n",
       "      <td>1</td>\n",
       "      <td>2</td>\n",
       "      <td>1</td>\n",
       "    </tr>\n",
       "    <tr>\n",
       "      <th>104</th>\n",
       "      <td>5</td>\n",
       "      <td>6</td>\n",
       "      <td>1</td>\n",
       "      <td>3</td>\n",
       "      <td>0</td>\n",
       "    </tr>\n",
       "    <tr>\n",
       "      <th>118</th>\n",
       "      <td>5</td>\n",
       "      <td>6</td>\n",
       "      <td>1</td>\n",
       "      <td>2</td>\n",
       "      <td>1</td>\n",
       "    </tr>\n",
       "    <tr>\n",
       "      <th>...</th>\n",
       "      <td>...</td>\n",
       "      <td>...</td>\n",
       "      <td>...</td>\n",
       "      <td>...</td>\n",
       "      <td>...</td>\n",
       "    </tr>\n",
       "    <tr>\n",
       "      <th>15966</th>\n",
       "      <td>5</td>\n",
       "      <td>6</td>\n",
       "      <td>1</td>\n",
       "      <td>3</td>\n",
       "      <td>1</td>\n",
       "    </tr>\n",
       "    <tr>\n",
       "      <th>15972</th>\n",
       "      <td>5</td>\n",
       "      <td>6</td>\n",
       "      <td>1</td>\n",
       "      <td>3</td>\n",
       "      <td>0</td>\n",
       "    </tr>\n",
       "    <tr>\n",
       "      <th>15976</th>\n",
       "      <td>5</td>\n",
       "      <td>6</td>\n",
       "      <td>1</td>\n",
       "      <td>2</td>\n",
       "      <td>0</td>\n",
       "    </tr>\n",
       "    <tr>\n",
       "      <th>15984</th>\n",
       "      <td>5</td>\n",
       "      <td>6</td>\n",
       "      <td>1</td>\n",
       "      <td>3</td>\n",
       "      <td>1</td>\n",
       "    </tr>\n",
       "    <tr>\n",
       "      <th>15998</th>\n",
       "      <td>5</td>\n",
       "      <td>6</td>\n",
       "      <td>1</td>\n",
       "      <td>2</td>\n",
       "      <td>0</td>\n",
       "    </tr>\n",
       "  </tbody>\n",
       "</table>\n",
       "<p>1050 rows × 5 columns</p>\n",
       "</div>"
      ],
      "text/plain": [
       "       start_hour  accident_hour  gap_start_acci  duration  test_set\n",
       "84              5              6               1         2         0\n",
       "85              5              6               1         2         0\n",
       "97              5              6               1         2         1\n",
       "104             5              6               1         3         0\n",
       "118             5              6               1         2         1\n",
       "...           ...            ...             ...       ...       ...\n",
       "15966           5              6               1         3         1\n",
       "15972           5              6               1         3         0\n",
       "15976           5              6               1         2         0\n",
       "15984           5              6               1         3         1\n",
       "15998           5              6               1         2         0\n",
       "\n",
       "[1050 rows x 5 columns]"
      ]
     },
     "execution_count": 75,
     "metadata": {},
     "output_type": "execute_result"
    }
   ],
   "source": [
    "# start_hour == 5 -> 문제없음\n",
    "df_no_dur123[df_no_dur123[\"gap_start_acci\"]>0]\\\n",
    "[df_no_dur123[\"accident_hour\"]==6][df_no_dur123[\"start_hour\"]==5]\n"
   ]
  },
  {
   "cell_type": "markdown",
   "id": "still-soundtrack",
   "metadata": {},
   "source": [
    "### (2) start_hour==4"
   ]
  },
  {
   "cell_type": "code",
   "execution_count": 82,
   "id": "artistic-judges",
   "metadata": {},
   "outputs": [
    {
     "name": "stderr",
     "output_type": "stream",
     "text": [
      "/Users/limhyunsoo/opt/anaconda3/envs/nltk/lib/python3.7/site-packages/ipykernel_launcher.py:3: UserWarning: Boolean Series key will be reindexed to match DataFrame index.\n",
      "  This is separate from the ipykernel package so we can avoid doing imports until\n",
      "/Users/limhyunsoo/opt/anaconda3/envs/nltk/lib/python3.7/site-packages/ipykernel_launcher.py:3: UserWarning: Boolean Series key will be reindexed to match DataFrame index.\n",
      "  This is separate from the ipykernel package so we can avoid doing imports until\n"
     ]
    },
    {
     "data": {
      "text/plain": [
       "array([3, 2])"
      ]
     },
     "execution_count": 82,
     "metadata": {},
     "output_type": "execute_result"
    }
   ],
   "source": [
    "# start_hour == 4 -> dur==1이면 안됨 -> 해당 경우 없음\n",
    "df_no_dur123[df_no_dur123[\"gap_start_acci\"]>0]\\\n",
    "[df_no_dur123[\"accident_hour\"]==6][df_no_dur123[\"start_hour\"]==4].duration.unique()\n"
   ]
  },
  {
   "cell_type": "markdown",
   "id": "union-consultation",
   "metadata": {},
   "source": [
    "### (3) start_hour==3"
   ]
  },
  {
   "cell_type": "code",
   "execution_count": 105,
   "id": "lasting-postage",
   "metadata": {},
   "outputs": [
    {
     "name": "stderr",
     "output_type": "stream",
     "text": [
      "/Users/limhyunsoo/opt/anaconda3/envs/nltk/lib/python3.7/site-packages/ipykernel_launcher.py:3: UserWarning: Boolean Series key will be reindexed to match DataFrame index.\n",
      "  This is separate from the ipykernel package so we can avoid doing imports until\n",
      "/Users/limhyunsoo/opt/anaconda3/envs/nltk/lib/python3.7/site-packages/ipykernel_launcher.py:3: UserWarning: Boolean Series key will be reindexed to match DataFrame index.\n",
      "  This is separate from the ipykernel package so we can avoid doing imports until\n",
      "/Users/limhyunsoo/opt/anaconda3/envs/nltk/lib/python3.7/site-packages/ipykernel_launcher.py:4: UserWarning: Boolean Series key will be reindexed to match DataFrame index.\n",
      "  after removing the cwd from sys.path.\n"
     ]
    },
    {
     "data": {
      "text/html": [
       "<div>\n",
       "<style scoped>\n",
       "    .dataframe tbody tr th:only-of-type {\n",
       "        vertical-align: middle;\n",
       "    }\n",
       "\n",
       "    .dataframe tbody tr th {\n",
       "        vertical-align: top;\n",
       "    }\n",
       "\n",
       "    .dataframe thead th {\n",
       "        text-align: right;\n",
       "    }\n",
       "</style>\n",
       "<table border=\"1\" class=\"dataframe\">\n",
       "  <thead>\n",
       "    <tr style=\"text-align: right;\">\n",
       "      <th></th>\n",
       "      <th>start_hour</th>\n",
       "      <th>accident_hour</th>\n",
       "      <th>gap_start_acci</th>\n",
       "      <th>duration</th>\n",
       "      <th>test_set</th>\n",
       "    </tr>\n",
       "  </thead>\n",
       "  <tbody>\n",
       "    <tr>\n",
       "      <th>8477</th>\n",
       "      <td>3</td>\n",
       "      <td>6</td>\n",
       "      <td>3</td>\n",
       "      <td>2</td>\n",
       "      <td>0</td>\n",
       "    </tr>\n",
       "    <tr>\n",
       "      <th>12705</th>\n",
       "      <td>3</td>\n",
       "      <td>6</td>\n",
       "      <td>3</td>\n",
       "      <td>2</td>\n",
       "      <td>0</td>\n",
       "    </tr>\n",
       "  </tbody>\n",
       "</table>\n",
       "</div>"
      ],
      "text/plain": [
       "       start_hour  accident_hour  gap_start_acci  duration  test_set\n",
       "8477            3              6               3         2         0\n",
       "12705           3              6               3         2         0"
      ]
     },
     "execution_count": 105,
     "metadata": {},
     "output_type": "execute_result"
    }
   ],
   "source": [
    "# start_hour == 3 -> dur==1,2이면 안됨 -> 2개 제거리스트 추가\n",
    "tmp = df_no_dur123[df_no_dur123[\"gap_start_acci\"]>0]\\\n",
    "[df_no_dur123[\"accident_hour\"]==6][df_no_dur123[\"start_hour\"]==3]\\\n",
    "[df_no_dur123[\"duration\"].isin([1,2])]\n",
    "\n",
    "list_for_del.extend(tmp[tmp[\"test_set\"]==0].index)\n",
    "tmp"
   ]
  },
  {
   "cell_type": "markdown",
   "id": "inappropriate-advocate",
   "metadata": {},
   "source": [
    "### (4) start_hour==2"
   ]
  },
  {
   "cell_type": "code",
   "execution_count": 106,
   "id": "stock-north",
   "metadata": {},
   "outputs": [
    {
     "name": "stderr",
     "output_type": "stream",
     "text": [
      "/Users/limhyunsoo/opt/anaconda3/envs/nltk/lib/python3.7/site-packages/ipykernel_launcher.py:3: UserWarning: Boolean Series key will be reindexed to match DataFrame index.\n",
      "  This is separate from the ipykernel package so we can avoid doing imports until\n",
      "/Users/limhyunsoo/opt/anaconda3/envs/nltk/lib/python3.7/site-packages/ipykernel_launcher.py:3: UserWarning: Boolean Series key will be reindexed to match DataFrame index.\n",
      "  This is separate from the ipykernel package so we can avoid doing imports until\n"
     ]
    },
    {
     "data": {
      "text/html": [
       "<div>\n",
       "<style scoped>\n",
       "    .dataframe tbody tr th:only-of-type {\n",
       "        vertical-align: middle;\n",
       "    }\n",
       "\n",
       "    .dataframe tbody tr th {\n",
       "        vertical-align: top;\n",
       "    }\n",
       "\n",
       "    .dataframe thead th {\n",
       "        text-align: right;\n",
       "    }\n",
       "</style>\n",
       "<table border=\"1\" class=\"dataframe\">\n",
       "  <thead>\n",
       "    <tr style=\"text-align: right;\">\n",
       "      <th></th>\n",
       "      <th>start_hour</th>\n",
       "      <th>accident_hour</th>\n",
       "      <th>gap_start_acci</th>\n",
       "      <th>duration</th>\n",
       "      <th>test_set</th>\n",
       "    </tr>\n",
       "  </thead>\n",
       "  <tbody>\n",
       "    <tr>\n",
       "      <th>8514</th>\n",
       "      <td>2</td>\n",
       "      <td>6</td>\n",
       "      <td>4</td>\n",
       "      <td>3</td>\n",
       "      <td>0</td>\n",
       "    </tr>\n",
       "  </tbody>\n",
       "</table>\n",
       "</div>"
      ],
      "text/plain": [
       "      start_hour  accident_hour  gap_start_acci  duration  test_set\n",
       "8514           2              6               4         3         0"
      ]
     },
     "execution_count": 106,
     "metadata": {},
     "output_type": "execute_result"
    }
   ],
   "source": [
    "# start_hour == 2 -> dur==1,2,3은 안됨 -> 1개 제거리스트에 추가\n",
    "tmp = df_no_dur123[df_no_dur123[\"gap_start_acci\"]>0]\\\n",
    "[df_no_dur123[\"accident_hour\"]==6][df_no_dur123[\"start_hour\"]==2]\n",
    "\n",
    "list_for_del.extend(tmp[tmp[\"test_set\"]==0].index)\n",
    "tmp"
   ]
  },
  {
   "cell_type": "markdown",
   "id": "french-directory",
   "metadata": {},
   "source": [
    "### (5) start_hour==1"
   ]
  },
  {
   "cell_type": "code",
   "execution_count": 90,
   "id": "white-mount",
   "metadata": {},
   "outputs": [
    {
     "name": "stderr",
     "output_type": "stream",
     "text": [
      "/Users/limhyunsoo/opt/anaconda3/envs/nltk/lib/python3.7/site-packages/ipykernel_launcher.py:3: UserWarning: Boolean Series key will be reindexed to match DataFrame index.\n",
      "  This is separate from the ipykernel package so we can avoid doing imports until\n",
      "/Users/limhyunsoo/opt/anaconda3/envs/nltk/lib/python3.7/site-packages/ipykernel_launcher.py:3: UserWarning: Boolean Series key will be reindexed to match DataFrame index.\n",
      "  This is separate from the ipykernel package so we can avoid doing imports until\n"
     ]
    },
    {
     "data": {
      "text/html": [
       "<div>\n",
       "<style scoped>\n",
       "    .dataframe tbody tr th:only-of-type {\n",
       "        vertical-align: middle;\n",
       "    }\n",
       "\n",
       "    .dataframe tbody tr th {\n",
       "        vertical-align: top;\n",
       "    }\n",
       "\n",
       "    .dataframe thead th {\n",
       "        text-align: right;\n",
       "    }\n",
       "</style>\n",
       "<table border=\"1\" class=\"dataframe\">\n",
       "  <thead>\n",
       "    <tr style=\"text-align: right;\">\n",
       "      <th></th>\n",
       "      <th>start_hour</th>\n",
       "      <th>accident_hour</th>\n",
       "      <th>gap_start_acci</th>\n",
       "      <th>duration</th>\n",
       "      <th>test_set</th>\n",
       "    </tr>\n",
       "  </thead>\n",
       "  <tbody>\n",
       "    <tr>\n",
       "      <th>532</th>\n",
       "      <td>1</td>\n",
       "      <td>6</td>\n",
       "      <td>5</td>\n",
       "      <td>1</td>\n",
       "      <td>0</td>\n",
       "    </tr>\n",
       "    <tr>\n",
       "      <th>4158</th>\n",
       "      <td>1</td>\n",
       "      <td>6</td>\n",
       "      <td>5</td>\n",
       "      <td>3</td>\n",
       "      <td>0</td>\n",
       "    </tr>\n",
       "    <tr>\n",
       "      <th>5401</th>\n",
       "      <td>1</td>\n",
       "      <td>6</td>\n",
       "      <td>5</td>\n",
       "      <td>2</td>\n",
       "      <td>0</td>\n",
       "    </tr>\n",
       "    <tr>\n",
       "      <th>13077</th>\n",
       "      <td>1</td>\n",
       "      <td>6</td>\n",
       "      <td>5</td>\n",
       "      <td>3</td>\n",
       "      <td>0</td>\n",
       "    </tr>\n",
       "  </tbody>\n",
       "</table>\n",
       "</div>"
      ],
      "text/plain": [
       "       start_hour  accident_hour  gap_start_acci  duration  test_set\n",
       "532             1              6               5         1         0\n",
       "4158            1              6               5         3         0\n",
       "5401            1              6               5         2         0\n",
       "13077           1              6               5         3         0"
      ]
     },
     "execution_count": 90,
     "metadata": {},
     "output_type": "execute_result"
    }
   ],
   "source": [
    "# start_hour == 1 -> dur==1,2,3이면 안됨 -> 4개 제거리스트에 추가\n",
    "tmp = df_no_dur123[df_no_dur123[\"gap_start_acci\"]>0]\\\n",
    "[df_no_dur123[\"accident_hour\"]==6][df_no_dur123[\"start_hour\"]==1]\n",
    "\n",
    "list_for_del.extend(tmp[tmp[\"test_set\"]==0].index)\n",
    "tmp"
   ]
  },
  {
   "cell_type": "markdown",
   "id": "specified-raise",
   "metadata": {},
   "source": [
    "### **** accident_hour=5 ****"
   ]
  },
  {
   "cell_type": "code",
   "execution_count": 144,
   "id": "colored-stadium",
   "metadata": {},
   "outputs": [
    {
     "name": "stderr",
     "output_type": "stream",
     "text": [
      "/Users/limhyunsoo/opt/anaconda3/envs/nltk/lib/python3.7/site-packages/ipykernel_launcher.py:2: UserWarning: Boolean Series key will be reindexed to match DataFrame index.\n",
      "  \n"
     ]
    },
    {
     "data": {
      "text/plain": [
       "[1, 2, 3, 4]"
      ]
     },
     "execution_count": 144,
     "metadata": {},
     "output_type": "execute_result"
    }
   ],
   "source": [
    "sorted(df_no_dur123[df_no_dur123[\"gap_start_acci\"]>0]\\\n",
    "[df_no_dur123[\"accident_hour\"]==5][\"start_hour\"].unique())"
   ]
  },
  {
   "cell_type": "markdown",
   "id": "based-canberra",
   "metadata": {},
   "source": [
    "### (1) start_hour==4"
   ]
  },
  {
   "cell_type": "code",
   "execution_count": 94,
   "id": "attached-sleep",
   "metadata": {},
   "outputs": [
    {
     "name": "stderr",
     "output_type": "stream",
     "text": [
      "/Users/limhyunsoo/opt/anaconda3/envs/nltk/lib/python3.7/site-packages/ipykernel_launcher.py:3: UserWarning: Boolean Series key will be reindexed to match DataFrame index.\n",
      "  This is separate from the ipykernel package so we can avoid doing imports until\n",
      "/Users/limhyunsoo/opt/anaconda3/envs/nltk/lib/python3.7/site-packages/ipykernel_launcher.py:3: UserWarning: Boolean Series key will be reindexed to match DataFrame index.\n",
      "  This is separate from the ipykernel package so we can avoid doing imports until\n"
     ]
    },
    {
     "data": {
      "text/html": [
       "<div>\n",
       "<style scoped>\n",
       "    .dataframe tbody tr th:only-of-type {\n",
       "        vertical-align: middle;\n",
       "    }\n",
       "\n",
       "    .dataframe tbody tr th {\n",
       "        vertical-align: top;\n",
       "    }\n",
       "\n",
       "    .dataframe thead th {\n",
       "        text-align: right;\n",
       "    }\n",
       "</style>\n",
       "<table border=\"1\" class=\"dataframe\">\n",
       "  <thead>\n",
       "    <tr style=\"text-align: right;\">\n",
       "      <th></th>\n",
       "      <th>start_hour</th>\n",
       "      <th>accident_hour</th>\n",
       "      <th>gap_start_acci</th>\n",
       "      <th>duration</th>\n",
       "      <th>test_set</th>\n",
       "    </tr>\n",
       "  </thead>\n",
       "  <tbody>\n",
       "    <tr>\n",
       "      <th>56</th>\n",
       "      <td>4</td>\n",
       "      <td>5</td>\n",
       "      <td>1</td>\n",
       "      <td>2</td>\n",
       "      <td>1</td>\n",
       "    </tr>\n",
       "    <tr>\n",
       "      <th>80</th>\n",
       "      <td>4</td>\n",
       "      <td>5</td>\n",
       "      <td>1</td>\n",
       "      <td>2</td>\n",
       "      <td>0</td>\n",
       "    </tr>\n",
       "    <tr>\n",
       "      <th>90</th>\n",
       "      <td>4</td>\n",
       "      <td>5</td>\n",
       "      <td>1</td>\n",
       "      <td>2</td>\n",
       "      <td>0</td>\n",
       "    </tr>\n",
       "    <tr>\n",
       "      <th>105</th>\n",
       "      <td>4</td>\n",
       "      <td>5</td>\n",
       "      <td>1</td>\n",
       "      <td>2</td>\n",
       "      <td>0</td>\n",
       "    </tr>\n",
       "    <tr>\n",
       "      <th>129</th>\n",
       "      <td>4</td>\n",
       "      <td>5</td>\n",
       "      <td>1</td>\n",
       "      <td>3</td>\n",
       "      <td>0</td>\n",
       "    </tr>\n",
       "    <tr>\n",
       "      <th>...</th>\n",
       "      <td>...</td>\n",
       "      <td>...</td>\n",
       "      <td>...</td>\n",
       "      <td>...</td>\n",
       "      <td>...</td>\n",
       "    </tr>\n",
       "    <tr>\n",
       "      <th>15955</th>\n",
       "      <td>4</td>\n",
       "      <td>5</td>\n",
       "      <td>1</td>\n",
       "      <td>2</td>\n",
       "      <td>1</td>\n",
       "    </tr>\n",
       "    <tr>\n",
       "      <th>15965</th>\n",
       "      <td>4</td>\n",
       "      <td>5</td>\n",
       "      <td>1</td>\n",
       "      <td>1</td>\n",
       "      <td>0</td>\n",
       "    </tr>\n",
       "    <tr>\n",
       "      <th>15978</th>\n",
       "      <td>4</td>\n",
       "      <td>5</td>\n",
       "      <td>1</td>\n",
       "      <td>2</td>\n",
       "      <td>1</td>\n",
       "    </tr>\n",
       "    <tr>\n",
       "      <th>15993</th>\n",
       "      <td>4</td>\n",
       "      <td>5</td>\n",
       "      <td>1</td>\n",
       "      <td>2</td>\n",
       "      <td>0</td>\n",
       "    </tr>\n",
       "    <tr>\n",
       "      <th>15996</th>\n",
       "      <td>4</td>\n",
       "      <td>5</td>\n",
       "      <td>1</td>\n",
       "      <td>3</td>\n",
       "      <td>0</td>\n",
       "    </tr>\n",
       "  </tbody>\n",
       "</table>\n",
       "<p>1113 rows × 5 columns</p>\n",
       "</div>"
      ],
      "text/plain": [
       "       start_hour  accident_hour  gap_start_acci  duration  test_set\n",
       "56              4              5               1         2         1\n",
       "80              4              5               1         2         0\n",
       "90              4              5               1         2         0\n",
       "105             4              5               1         2         0\n",
       "129             4              5               1         3         0\n",
       "...           ...            ...             ...       ...       ...\n",
       "15955           4              5               1         2         1\n",
       "15965           4              5               1         1         0\n",
       "15978           4              5               1         2         1\n",
       "15993           4              5               1         2         0\n",
       "15996           4              5               1         3         0\n",
       "\n",
       "[1113 rows x 5 columns]"
      ]
     },
     "execution_count": 94,
     "metadata": {},
     "output_type": "execute_result"
    }
   ],
   "source": [
    "# start_hour == 4 -> 문제없음\n",
    "df_no_dur123[df_no_dur123[\"gap_start_acci\"]>0]\\\n",
    "[df_no_dur123[\"accident_hour\"]==5][df_no_dur123[\"start_hour\"]==4]"
   ]
  },
  {
   "cell_type": "markdown",
   "id": "specialized-liberty",
   "metadata": {},
   "source": [
    "### (2) start_hour==3"
   ]
  },
  {
   "cell_type": "code",
   "execution_count": 96,
   "id": "therapeutic-berry",
   "metadata": {},
   "outputs": [
    {
     "name": "stderr",
     "output_type": "stream",
     "text": [
      "/Users/limhyunsoo/opt/anaconda3/envs/nltk/lib/python3.7/site-packages/ipykernel_launcher.py:3: UserWarning: Boolean Series key will be reindexed to match DataFrame index.\n",
      "  This is separate from the ipykernel package so we can avoid doing imports until\n",
      "/Users/limhyunsoo/opt/anaconda3/envs/nltk/lib/python3.7/site-packages/ipykernel_launcher.py:3: UserWarning: Boolean Series key will be reindexed to match DataFrame index.\n",
      "  This is separate from the ipykernel package so we can avoid doing imports until\n"
     ]
    },
    {
     "data": {
      "text/plain": [
       "array([3, 2])"
      ]
     },
     "execution_count": 96,
     "metadata": {},
     "output_type": "execute_result"
    }
   ],
   "source": [
    "# start_hour == 3 -> dur==1이면 안됨 -> 해당 경우 없음\n",
    "df_no_dur123[df_no_dur123[\"gap_start_acci\"]>0]\\\n",
    "[df_no_dur123[\"accident_hour\"]==5][df_no_dur123[\"start_hour\"]==3].duration.unique()"
   ]
  },
  {
   "cell_type": "markdown",
   "id": "freelance-magic",
   "metadata": {},
   "source": [
    "### (3) start_hour==2"
   ]
  },
  {
   "cell_type": "code",
   "execution_count": 111,
   "id": "adapted-payment",
   "metadata": {},
   "outputs": [
    {
     "name": "stderr",
     "output_type": "stream",
     "text": [
      "/Users/limhyunsoo/opt/anaconda3/envs/nltk/lib/python3.7/site-packages/ipykernel_launcher.py:3: UserWarning: Boolean Series key will be reindexed to match DataFrame index.\n",
      "  This is separate from the ipykernel package so we can avoid doing imports until\n",
      "/Users/limhyunsoo/opt/anaconda3/envs/nltk/lib/python3.7/site-packages/ipykernel_launcher.py:3: UserWarning: Boolean Series key will be reindexed to match DataFrame index.\n",
      "  This is separate from the ipykernel package so we can avoid doing imports until\n"
     ]
    },
    {
     "data": {
      "text/plain": [
       "array([3])"
      ]
     },
     "execution_count": 111,
     "metadata": {},
     "output_type": "execute_result"
    }
   ],
   "source": [
    "# start_hour == 2 -> dur==1,2는 안됨 -> 해당 경우 없음\n",
    "df_no_dur123[df_no_dur123[\"gap_start_acci\"]>0]\\\n",
    "[df_no_dur123[\"accident_hour\"]==5][df_no_dur123[\"start_hour\"]==2].duration.unique()\n",
    "\n"
   ]
  },
  {
   "cell_type": "markdown",
   "id": "comparable-commitment",
   "metadata": {},
   "source": [
    "### (4) start_hour==1"
   ]
  },
  {
   "cell_type": "code",
   "execution_count": 113,
   "id": "adverse-saturday",
   "metadata": {},
   "outputs": [
    {
     "name": "stderr",
     "output_type": "stream",
     "text": [
      "/Users/limhyunsoo/opt/anaconda3/envs/nltk/lib/python3.7/site-packages/ipykernel_launcher.py:3: UserWarning: Boolean Series key will be reindexed to match DataFrame index.\n",
      "  This is separate from the ipykernel package so we can avoid doing imports until\n",
      "/Users/limhyunsoo/opt/anaconda3/envs/nltk/lib/python3.7/site-packages/ipykernel_launcher.py:3: UserWarning: Boolean Series key will be reindexed to match DataFrame index.\n",
      "  This is separate from the ipykernel package so we can avoid doing imports until\n"
     ]
    },
    {
     "data": {
      "text/html": [
       "<div>\n",
       "<style scoped>\n",
       "    .dataframe tbody tr th:only-of-type {\n",
       "        vertical-align: middle;\n",
       "    }\n",
       "\n",
       "    .dataframe tbody tr th {\n",
       "        vertical-align: top;\n",
       "    }\n",
       "\n",
       "    .dataframe thead th {\n",
       "        text-align: right;\n",
       "    }\n",
       "</style>\n",
       "<table border=\"1\" class=\"dataframe\">\n",
       "  <thead>\n",
       "    <tr style=\"text-align: right;\">\n",
       "      <th></th>\n",
       "      <th>start_hour</th>\n",
       "      <th>accident_hour</th>\n",
       "      <th>gap_start_acci</th>\n",
       "      <th>duration</th>\n",
       "      <th>test_set</th>\n",
       "    </tr>\n",
       "  </thead>\n",
       "  <tbody>\n",
       "    <tr>\n",
       "      <th>4595</th>\n",
       "      <td>1</td>\n",
       "      <td>5</td>\n",
       "      <td>4</td>\n",
       "      <td>2</td>\n",
       "      <td>0</td>\n",
       "    </tr>\n",
       "    <tr>\n",
       "      <th>6839</th>\n",
       "      <td>1</td>\n",
       "      <td>5</td>\n",
       "      <td>4</td>\n",
       "      <td>1</td>\n",
       "      <td>0</td>\n",
       "    </tr>\n",
       "    <tr>\n",
       "      <th>11710</th>\n",
       "      <td>1</td>\n",
       "      <td>5</td>\n",
       "      <td>4</td>\n",
       "      <td>1</td>\n",
       "      <td>0</td>\n",
       "    </tr>\n",
       "    <tr>\n",
       "      <th>12377</th>\n",
       "      <td>1</td>\n",
       "      <td>5</td>\n",
       "      <td>4</td>\n",
       "      <td>2</td>\n",
       "      <td>0</td>\n",
       "    </tr>\n",
       "    <tr>\n",
       "      <th>15080</th>\n",
       "      <td>1</td>\n",
       "      <td>5</td>\n",
       "      <td>4</td>\n",
       "      <td>2</td>\n",
       "      <td>0</td>\n",
       "    </tr>\n",
       "  </tbody>\n",
       "</table>\n",
       "</div>"
      ],
      "text/plain": [
       "       start_hour  accident_hour  gap_start_acci  duration  test_set\n",
       "4595            1              5               4         2         0\n",
       "6839            1              5               4         1         0\n",
       "11710           1              5               4         1         0\n",
       "12377           1              5               4         2         0\n",
       "15080           1              5               4         2         0"
      ]
     },
     "execution_count": 113,
     "metadata": {},
     "output_type": "execute_result"
    }
   ],
   "source": [
    "# start_hour == 1 -> dur==1,2,3는 안됨 -> 5개 삭제\n",
    "tmp = df_no_dur123[df_no_dur123[\"gap_start_acci\"]>0]\\\n",
    "[df_no_dur123[\"accident_hour\"]==5][df_no_dur123[\"start_hour\"]==1]\n",
    "\n",
    "list_for_del.extend(tmp[tmp[\"test_set\"]==0].index)\n",
    "tmp"
   ]
  },
  {
   "cell_type": "markdown",
   "id": "juvenile-eagle",
   "metadata": {},
   "source": [
    "### **** accident_hour=4 ****"
   ]
  },
  {
   "cell_type": "code",
   "execution_count": 116,
   "id": "danish-tokyo",
   "metadata": {},
   "outputs": [
    {
     "name": "stderr",
     "output_type": "stream",
     "text": [
      "/Users/limhyunsoo/opt/anaconda3/envs/nltk/lib/python3.7/site-packages/ipykernel_launcher.py:3: UserWarning: Boolean Series key will be reindexed to match DataFrame index.\n",
      "  This is separate from the ipykernel package so we can avoid doing imports until\n"
     ]
    },
    {
     "data": {
      "text/plain": [
       "[1, 2, 3]"
      ]
     },
     "execution_count": 116,
     "metadata": {},
     "output_type": "execute_result"
    }
   ],
   "source": [
    "# start_hour는 3가지 경우\n",
    "sorted(df_no_dur123[df_no_dur123[\"gap_start_acci\"]>0]\\\n",
    "[df_no_dur123[\"accident_hour\"]==4][\"start_hour\"].unique())"
   ]
  },
  {
   "cell_type": "markdown",
   "id": "latest-treasurer",
   "metadata": {},
   "source": [
    "### (1) start_hour==3"
   ]
  },
  {
   "cell_type": "code",
   "execution_count": 117,
   "id": "comparable-yesterday",
   "metadata": {},
   "outputs": [
    {
     "name": "stderr",
     "output_type": "stream",
     "text": [
      "/Users/limhyunsoo/opt/anaconda3/envs/nltk/lib/python3.7/site-packages/ipykernel_launcher.py:3: UserWarning: Boolean Series key will be reindexed to match DataFrame index.\n",
      "  This is separate from the ipykernel package so we can avoid doing imports until\n",
      "/Users/limhyunsoo/opt/anaconda3/envs/nltk/lib/python3.7/site-packages/ipykernel_launcher.py:3: UserWarning: Boolean Series key will be reindexed to match DataFrame index.\n",
      "  This is separate from the ipykernel package so we can avoid doing imports until\n"
     ]
    },
    {
     "data": {
      "text/html": [
       "<div>\n",
       "<style scoped>\n",
       "    .dataframe tbody tr th:only-of-type {\n",
       "        vertical-align: middle;\n",
       "    }\n",
       "\n",
       "    .dataframe tbody tr th {\n",
       "        vertical-align: top;\n",
       "    }\n",
       "\n",
       "    .dataframe thead th {\n",
       "        text-align: right;\n",
       "    }\n",
       "</style>\n",
       "<table border=\"1\" class=\"dataframe\">\n",
       "  <thead>\n",
       "    <tr style=\"text-align: right;\">\n",
       "      <th></th>\n",
       "      <th>start_hour</th>\n",
       "      <th>accident_hour</th>\n",
       "      <th>gap_start_acci</th>\n",
       "      <th>duration</th>\n",
       "      <th>test_set</th>\n",
       "    </tr>\n",
       "  </thead>\n",
       "  <tbody>\n",
       "    <tr>\n",
       "      <th>30</th>\n",
       "      <td>3</td>\n",
       "      <td>4</td>\n",
       "      <td>1</td>\n",
       "      <td>3</td>\n",
       "      <td>0</td>\n",
       "    </tr>\n",
       "    <tr>\n",
       "      <th>124</th>\n",
       "      <td>3</td>\n",
       "      <td>4</td>\n",
       "      <td>1</td>\n",
       "      <td>3</td>\n",
       "      <td>0</td>\n",
       "    </tr>\n",
       "    <tr>\n",
       "      <th>125</th>\n",
       "      <td>3</td>\n",
       "      <td>4</td>\n",
       "      <td>1</td>\n",
       "      <td>1</td>\n",
       "      <td>0</td>\n",
       "    </tr>\n",
       "    <tr>\n",
       "      <th>139</th>\n",
       "      <td>3</td>\n",
       "      <td>4</td>\n",
       "      <td>1</td>\n",
       "      <td>2</td>\n",
       "      <td>0</td>\n",
       "    </tr>\n",
       "    <tr>\n",
       "      <th>151</th>\n",
       "      <td>3</td>\n",
       "      <td>4</td>\n",
       "      <td>1</td>\n",
       "      <td>2</td>\n",
       "      <td>0</td>\n",
       "    </tr>\n",
       "    <tr>\n",
       "      <th>...</th>\n",
       "      <td>...</td>\n",
       "      <td>...</td>\n",
       "      <td>...</td>\n",
       "      <td>...</td>\n",
       "      <td>...</td>\n",
       "    </tr>\n",
       "    <tr>\n",
       "      <th>15961</th>\n",
       "      <td>3</td>\n",
       "      <td>4</td>\n",
       "      <td>1</td>\n",
       "      <td>3</td>\n",
       "      <td>0</td>\n",
       "    </tr>\n",
       "    <tr>\n",
       "      <th>15969</th>\n",
       "      <td>3</td>\n",
       "      <td>4</td>\n",
       "      <td>1</td>\n",
       "      <td>2</td>\n",
       "      <td>1</td>\n",
       "    </tr>\n",
       "    <tr>\n",
       "      <th>15971</th>\n",
       "      <td>3</td>\n",
       "      <td>4</td>\n",
       "      <td>1</td>\n",
       "      <td>2</td>\n",
       "      <td>1</td>\n",
       "    </tr>\n",
       "    <tr>\n",
       "      <th>15973</th>\n",
       "      <td>3</td>\n",
       "      <td>4</td>\n",
       "      <td>1</td>\n",
       "      <td>2</td>\n",
       "      <td>0</td>\n",
       "    </tr>\n",
       "    <tr>\n",
       "      <th>15986</th>\n",
       "      <td>3</td>\n",
       "      <td>4</td>\n",
       "      <td>1</td>\n",
       "      <td>3</td>\n",
       "      <td>0</td>\n",
       "    </tr>\n",
       "  </tbody>\n",
       "</table>\n",
       "<p>635 rows × 5 columns</p>\n",
       "</div>"
      ],
      "text/plain": [
       "       start_hour  accident_hour  gap_start_acci  duration  test_set\n",
       "30              3              4               1         3         0\n",
       "124             3              4               1         3         0\n",
       "125             3              4               1         1         0\n",
       "139             3              4               1         2         0\n",
       "151             3              4               1         2         0\n",
       "...           ...            ...             ...       ...       ...\n",
       "15961           3              4               1         3         0\n",
       "15969           3              4               1         2         1\n",
       "15971           3              4               1         2         1\n",
       "15973           3              4               1         2         0\n",
       "15986           3              4               1         3         0\n",
       "\n",
       "[635 rows x 5 columns]"
      ]
     },
     "execution_count": 117,
     "metadata": {},
     "output_type": "execute_result"
    }
   ],
   "source": [
    "# start_hour == 3 -> 문제없음\n",
    "df_no_dur123[df_no_dur123[\"gap_start_acci\"]>0]\\\n",
    "[df_no_dur123[\"accident_hour\"]==4][df_no_dur123[\"start_hour\"]==3]"
   ]
  },
  {
   "cell_type": "markdown",
   "id": "deluxe-defendant",
   "metadata": {},
   "source": [
    "### (2) start_hour==2"
   ]
  },
  {
   "cell_type": "code",
   "execution_count": 123,
   "id": "north-membrane",
   "metadata": {},
   "outputs": [
    {
     "name": "stderr",
     "output_type": "stream",
     "text": [
      "/Users/limhyunsoo/opt/anaconda3/envs/nltk/lib/python3.7/site-packages/ipykernel_launcher.py:3: UserWarning: Boolean Series key will be reindexed to match DataFrame index.\n",
      "  This is separate from the ipykernel package so we can avoid doing imports until\n",
      "/Users/limhyunsoo/opt/anaconda3/envs/nltk/lib/python3.7/site-packages/ipykernel_launcher.py:3: UserWarning: Boolean Series key will be reindexed to match DataFrame index.\n",
      "  This is separate from the ipykernel package so we can avoid doing imports until\n"
     ]
    },
    {
     "data": {
      "text/plain": [
       "array([3, 2])"
      ]
     },
     "execution_count": 123,
     "metadata": {},
     "output_type": "execute_result"
    }
   ],
   "source": [
    "# start_hour == 2 -> dur==1은 안됨 -> 이상없음\n",
    "df_no_dur123[df_no_dur123[\"gap_start_acci\"]>0]\\\n",
    "[df_no_dur123[\"accident_hour\"]==4][df_no_dur123[\"start_hour\"]==2].duration.unique()"
   ]
  },
  {
   "cell_type": "markdown",
   "id": "flush-january",
   "metadata": {},
   "source": [
    "### (3) start_hour==1"
   ]
  },
  {
   "cell_type": "code",
   "execution_count": 128,
   "id": "comic-sheriff",
   "metadata": {},
   "outputs": [
    {
     "name": "stderr",
     "output_type": "stream",
     "text": [
      "/Users/limhyunsoo/opt/anaconda3/envs/nltk/lib/python3.7/site-packages/ipykernel_launcher.py:3: UserWarning: Boolean Series key will be reindexed to match DataFrame index.\n",
      "  This is separate from the ipykernel package so we can avoid doing imports until\n",
      "/Users/limhyunsoo/opt/anaconda3/envs/nltk/lib/python3.7/site-packages/ipykernel_launcher.py:3: UserWarning: Boolean Series key will be reindexed to match DataFrame index.\n",
      "  This is separate from the ipykernel package so we can avoid doing imports until\n",
      "/Users/limhyunsoo/opt/anaconda3/envs/nltk/lib/python3.7/site-packages/ipykernel_launcher.py:4: UserWarning: Boolean Series key will be reindexed to match DataFrame index.\n",
      "  after removing the cwd from sys.path.\n"
     ]
    },
    {
     "data": {
      "text/html": [
       "<div>\n",
       "<style scoped>\n",
       "    .dataframe tbody tr th:only-of-type {\n",
       "        vertical-align: middle;\n",
       "    }\n",
       "\n",
       "    .dataframe tbody tr th {\n",
       "        vertical-align: top;\n",
       "    }\n",
       "\n",
       "    .dataframe thead th {\n",
       "        text-align: right;\n",
       "    }\n",
       "</style>\n",
       "<table border=\"1\" class=\"dataframe\">\n",
       "  <thead>\n",
       "    <tr style=\"text-align: right;\">\n",
       "      <th></th>\n",
       "      <th>start_hour</th>\n",
       "      <th>accident_hour</th>\n",
       "      <th>gap_start_acci</th>\n",
       "      <th>duration</th>\n",
       "      <th>test_set</th>\n",
       "    </tr>\n",
       "  </thead>\n",
       "  <tbody>\n",
       "    <tr>\n",
       "      <th>1115</th>\n",
       "      <td>1</td>\n",
       "      <td>4</td>\n",
       "      <td>3</td>\n",
       "      <td>2</td>\n",
       "      <td>0</td>\n",
       "    </tr>\n",
       "    <tr>\n",
       "      <th>5398</th>\n",
       "      <td>1</td>\n",
       "      <td>4</td>\n",
       "      <td>3</td>\n",
       "      <td>2</td>\n",
       "      <td>0</td>\n",
       "    </tr>\n",
       "    <tr>\n",
       "      <th>5790</th>\n",
       "      <td>1</td>\n",
       "      <td>4</td>\n",
       "      <td>3</td>\n",
       "      <td>2</td>\n",
       "      <td>0</td>\n",
       "    </tr>\n",
       "    <tr>\n",
       "      <th>9523</th>\n",
       "      <td>1</td>\n",
       "      <td>4</td>\n",
       "      <td>3</td>\n",
       "      <td>1</td>\n",
       "      <td>0</td>\n",
       "    </tr>\n",
       "    <tr>\n",
       "      <th>9528</th>\n",
       "      <td>1</td>\n",
       "      <td>4</td>\n",
       "      <td>3</td>\n",
       "      <td>2</td>\n",
       "      <td>0</td>\n",
       "    </tr>\n",
       "    <tr>\n",
       "      <th>12050</th>\n",
       "      <td>1</td>\n",
       "      <td>4</td>\n",
       "      <td>3</td>\n",
       "      <td>1</td>\n",
       "      <td>0</td>\n",
       "    </tr>\n",
       "  </tbody>\n",
       "</table>\n",
       "</div>"
      ],
      "text/plain": [
       "       start_hour  accident_hour  gap_start_acci  duration  test_set\n",
       "1115            1              4               3         2         0\n",
       "5398            1              4               3         2         0\n",
       "5790            1              4               3         2         0\n",
       "9523            1              4               3         1         0\n",
       "9528            1              4               3         2         0\n",
       "12050           1              4               3         1         0"
      ]
     },
     "execution_count": 128,
     "metadata": {},
     "output_type": "execute_result"
    }
   ],
   "source": [
    "# start_hour == 1 -> dur==1,2는 안됨 -> 6개 삭제 리스트 추가\n",
    "tmp = df_no_dur123[df_no_dur123[\"gap_start_acci\"]>0]\\\n",
    "[df_no_dur123[\"accident_hour\"]==4][df_no_dur123[\"start_hour\"]==1]\\\n",
    "[df_no_dur123[\"duration\"].isin([1,2])]\n",
    "\n",
    "list_for_del.extend(tmp[tmp[\"test_set\"]==0].index)\n",
    "tmp"
   ]
  },
  {
   "cell_type": "markdown",
   "id": "cross-victor",
   "metadata": {},
   "source": [
    "### **** accident_hour=3 ****"
   ]
  },
  {
   "cell_type": "code",
   "execution_count": 131,
   "id": "serial-designation",
   "metadata": {},
   "outputs": [
    {
     "name": "stderr",
     "output_type": "stream",
     "text": [
      "/Users/limhyunsoo/opt/anaconda3/envs/nltk/lib/python3.7/site-packages/ipykernel_launcher.py:3: UserWarning: Boolean Series key will be reindexed to match DataFrame index.\n",
      "  This is separate from the ipykernel package so we can avoid doing imports until\n"
     ]
    },
    {
     "data": {
      "text/plain": [
       "[1, 2]"
      ]
     },
     "execution_count": 131,
     "metadata": {},
     "output_type": "execute_result"
    }
   ],
   "source": [
    "# start_hour는 2가지 경우\n",
    "sorted(df_no_dur123[df_no_dur123[\"gap_start_acci\"]>0]\\\n",
    "[df_no_dur123[\"accident_hour\"]==3][\"start_hour\"].unique())"
   ]
  },
  {
   "cell_type": "markdown",
   "id": "behavioral-poultry",
   "metadata": {},
   "source": [
    "### (1) start_hour==2"
   ]
  },
  {
   "cell_type": "code",
   "execution_count": 133,
   "id": "elect-poster",
   "metadata": {},
   "outputs": [
    {
     "name": "stderr",
     "output_type": "stream",
     "text": [
      "/Users/limhyunsoo/opt/anaconda3/envs/nltk/lib/python3.7/site-packages/ipykernel_launcher.py:3: UserWarning: Boolean Series key will be reindexed to match DataFrame index.\n",
      "  This is separate from the ipykernel package so we can avoid doing imports until\n",
      "/Users/limhyunsoo/opt/anaconda3/envs/nltk/lib/python3.7/site-packages/ipykernel_launcher.py:3: UserWarning: Boolean Series key will be reindexed to match DataFrame index.\n",
      "  This is separate from the ipykernel package so we can avoid doing imports until\n"
     ]
    },
    {
     "data": {
      "text/html": [
       "<div>\n",
       "<style scoped>\n",
       "    .dataframe tbody tr th:only-of-type {\n",
       "        vertical-align: middle;\n",
       "    }\n",
       "\n",
       "    .dataframe tbody tr th {\n",
       "        vertical-align: top;\n",
       "    }\n",
       "\n",
       "    .dataframe thead th {\n",
       "        text-align: right;\n",
       "    }\n",
       "</style>\n",
       "<table border=\"1\" class=\"dataframe\">\n",
       "  <thead>\n",
       "    <tr style=\"text-align: right;\">\n",
       "      <th></th>\n",
       "      <th>start_hour</th>\n",
       "      <th>accident_hour</th>\n",
       "      <th>gap_start_acci</th>\n",
       "      <th>duration</th>\n",
       "      <th>test_set</th>\n",
       "    </tr>\n",
       "  </thead>\n",
       "  <tbody>\n",
       "    <tr>\n",
       "      <th>169</th>\n",
       "      <td>2</td>\n",
       "      <td>3</td>\n",
       "      <td>1</td>\n",
       "      <td>3</td>\n",
       "      <td>0</td>\n",
       "    </tr>\n",
       "    <tr>\n",
       "      <th>239</th>\n",
       "      <td>2</td>\n",
       "      <td>3</td>\n",
       "      <td>1</td>\n",
       "      <td>2</td>\n",
       "      <td>0</td>\n",
       "    </tr>\n",
       "    <tr>\n",
       "      <th>335</th>\n",
       "      <td>2</td>\n",
       "      <td>3</td>\n",
       "      <td>1</td>\n",
       "      <td>3</td>\n",
       "      <td>0</td>\n",
       "    </tr>\n",
       "    <tr>\n",
       "      <th>566</th>\n",
       "      <td>2</td>\n",
       "      <td>3</td>\n",
       "      <td>1</td>\n",
       "      <td>3</td>\n",
       "      <td>1</td>\n",
       "    </tr>\n",
       "    <tr>\n",
       "      <th>593</th>\n",
       "      <td>2</td>\n",
       "      <td>3</td>\n",
       "      <td>1</td>\n",
       "      <td>3</td>\n",
       "      <td>0</td>\n",
       "    </tr>\n",
       "    <tr>\n",
       "      <th>...</th>\n",
       "      <td>...</td>\n",
       "      <td>...</td>\n",
       "      <td>...</td>\n",
       "      <td>...</td>\n",
       "      <td>...</td>\n",
       "    </tr>\n",
       "    <tr>\n",
       "      <th>15416</th>\n",
       "      <td>2</td>\n",
       "      <td>3</td>\n",
       "      <td>1</td>\n",
       "      <td>2</td>\n",
       "      <td>0</td>\n",
       "    </tr>\n",
       "    <tr>\n",
       "      <th>15499</th>\n",
       "      <td>2</td>\n",
       "      <td>3</td>\n",
       "      <td>1</td>\n",
       "      <td>2</td>\n",
       "      <td>1</td>\n",
       "    </tr>\n",
       "    <tr>\n",
       "      <th>15675</th>\n",
       "      <td>2</td>\n",
       "      <td>3</td>\n",
       "      <td>1</td>\n",
       "      <td>3</td>\n",
       "      <td>0</td>\n",
       "    </tr>\n",
       "    <tr>\n",
       "      <th>15710</th>\n",
       "      <td>2</td>\n",
       "      <td>3</td>\n",
       "      <td>1</td>\n",
       "      <td>3</td>\n",
       "      <td>0</td>\n",
       "    </tr>\n",
       "    <tr>\n",
       "      <th>15760</th>\n",
       "      <td>2</td>\n",
       "      <td>3</td>\n",
       "      <td>1</td>\n",
       "      <td>3</td>\n",
       "      <td>1</td>\n",
       "    </tr>\n",
       "  </tbody>\n",
       "</table>\n",
       "<p>94 rows × 5 columns</p>\n",
       "</div>"
      ],
      "text/plain": [
       "       start_hour  accident_hour  gap_start_acci  duration  test_set\n",
       "169             2              3               1         3         0\n",
       "239             2              3               1         2         0\n",
       "335             2              3               1         3         0\n",
       "566             2              3               1         3         1\n",
       "593             2              3               1         3         0\n",
       "...           ...            ...             ...       ...       ...\n",
       "15416           2              3               1         2         0\n",
       "15499           2              3               1         2         1\n",
       "15675           2              3               1         3         0\n",
       "15710           2              3               1         3         0\n",
       "15760           2              3               1         3         1\n",
       "\n",
       "[94 rows x 5 columns]"
      ]
     },
     "execution_count": 133,
     "metadata": {},
     "output_type": "execute_result"
    }
   ],
   "source": [
    "# start_hour == 2 -> 문제없음\n",
    "df_no_dur123[df_no_dur123[\"gap_start_acci\"]>0]\\\n",
    "[df_no_dur123[\"accident_hour\"]==3][df_no_dur123[\"start_hour\"]==2]"
   ]
  },
  {
   "cell_type": "markdown",
   "id": "adjusted-startup",
   "metadata": {},
   "source": [
    "### (2) start_hour==1"
   ]
  },
  {
   "cell_type": "code",
   "execution_count": 135,
   "id": "alive-international",
   "metadata": {},
   "outputs": [
    {
     "name": "stderr",
     "output_type": "stream",
     "text": [
      "/Users/limhyunsoo/opt/anaconda3/envs/nltk/lib/python3.7/site-packages/ipykernel_launcher.py:3: UserWarning: Boolean Series key will be reindexed to match DataFrame index.\n",
      "  This is separate from the ipykernel package so we can avoid doing imports until\n",
      "/Users/limhyunsoo/opt/anaconda3/envs/nltk/lib/python3.7/site-packages/ipykernel_launcher.py:3: UserWarning: Boolean Series key will be reindexed to match DataFrame index.\n",
      "  This is separate from the ipykernel package so we can avoid doing imports until\n"
     ]
    },
    {
     "data": {
      "text/plain": [
       "array([2, 3])"
      ]
     },
     "execution_count": 135,
     "metadata": {},
     "output_type": "execute_result"
    }
   ],
   "source": [
    "# start_hour == 1 -> dur==1은 안됨 -> 이상없음\n",
    "df_no_dur123[df_no_dur123[\"gap_start_acci\"]>0]\\\n",
    "[df_no_dur123[\"accident_hour\"]==3][df_no_dur123[\"start_hour\"]==1].duration.unique()"
   ]
  },
  {
   "cell_type": "markdown",
   "id": "opponent-rouge",
   "metadata": {},
   "source": [
    "### **** accident_hour=2 ****"
   ]
  },
  {
   "cell_type": "code",
   "execution_count": 137,
   "id": "heated-offset",
   "metadata": {},
   "outputs": [
    {
     "name": "stderr",
     "output_type": "stream",
     "text": [
      "/Users/limhyunsoo/opt/anaconda3/envs/nltk/lib/python3.7/site-packages/ipykernel_launcher.py:3: UserWarning: Boolean Series key will be reindexed to match DataFrame index.\n",
      "  This is separate from the ipykernel package so we can avoid doing imports until\n"
     ]
    },
    {
     "data": {
      "text/plain": [
       "[1]"
      ]
     },
     "execution_count": 137,
     "metadata": {},
     "output_type": "execute_result"
    }
   ],
   "source": [
    "# start_hour는 1가지 경우이며, 이 때 두 범주는 인접하므로 문제 가능성 없음\n",
    "sorted(df_no_dur123[df_no_dur123[\"gap_start_acci\"]>0]\\\n",
    "[df_no_dur123[\"accident_hour\"]==2][\"start_hour\"].unique())"
   ]
  },
  {
   "cell_type": "markdown",
   "id": "technical-theater",
   "metadata": {},
   "source": [
    "## 총 제거대상은 ** 41개 ** rows"
   ]
  },
  {
   "cell_type": "code",
   "execution_count": 155,
   "id": "editorial-addition",
   "metadata": {},
   "outputs": [
    {
     "data": {
      "text/plain": [
       "41"
      ]
     },
     "execution_count": 155,
     "metadata": {},
     "output_type": "execute_result"
    }
   ],
   "source": [
    "# 총 제거대상은 41개 rows (혹시 몰라 중복제거도 실시)\n",
    "len(set(list_for_del))"
   ]
  }
 ],
 "metadata": {
  "kernelspec": {
   "display_name": "Python 3",
   "language": "python",
   "name": "python3"
  },
  "language_info": {
   "codemirror_mode": {
    "name": "ipython",
    "version": 3
   },
   "file_extension": ".py",
   "mimetype": "text/x-python",
   "name": "python",
   "nbconvert_exporter": "python",
   "pygments_lexer": "ipython3",
   "version": "3.7.10"
  }
 },
 "nbformat": 4,
 "nbformat_minor": 5
}
