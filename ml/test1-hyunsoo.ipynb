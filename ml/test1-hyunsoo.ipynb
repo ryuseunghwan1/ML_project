{
 "cells": [
  {
   "cell_type": "code",
   "execution_count": 115,
   "id": "square-eugene",
   "metadata": {},
   "outputs": [],
   "source": [
    "import seaborn as sns\n",
    "import matplotlib.pyplot as plt\n",
    "import missingno as msno\n",
    "\n",
    "\n",
    "# data 불러오기\n",
    "socar_rd = pd.read_csv('datas/insurance_fraud_detect_data.csv')"
   ]
  },
  {
   "cell_type": "code",
   "execution_count": 2,
   "id": "official-milan",
   "metadata": {
    "collapsed": true
   },
   "outputs": [
    {
     "name": "stdout",
     "output_type": "stream",
     "text": [
      "<class 'pandas.core.frame.DataFrame'>\n",
      "RangeIndex: 16000 entries, 0 to 15999\n",
      "Data columns (total 25 columns):\n",
      " #   Column                 Non-Null Count  Dtype  \n",
      "---  ------                 --------------  -----  \n",
      " 0   fraud_YN               16000 non-null  int64  \n",
      " 1   car_model              16000 non-null  int64  \n",
      " 2   sharing_type           16000 non-null  int64  \n",
      " 3   age_group              16000 non-null  int64  \n",
      " 4   has_previous_accident  16000 non-null  int64  \n",
      " 5   cumulative_use_count   16000 non-null  int64  \n",
      " 6   b2b                    16000 non-null  int64  \n",
      " 7   accident_ratio         16000 non-null  int64  \n",
      " 8   pf_type                16000 non-null  int64  \n",
      " 9   socarpass              16000 non-null  int64  \n",
      " 10  socarsave              16000 non-null  int64  \n",
      " 11  start_hour             16000 non-null  int64  \n",
      " 12  duration               16000 non-null  int64  \n",
      " 13  accident_hour          16000 non-null  int64  \n",
      " 14  repair_cost            16000 non-null  float64\n",
      " 15  insure_cost            16000 non-null  int64  \n",
      " 16  accident_location      16000 non-null  int64  \n",
      " 17  car_part1              16000 non-null  int64  \n",
      " 18  car_part2              16000 non-null  int64  \n",
      " 19  repair_cnt             16000 non-null  int64  \n",
      " 20  acc_type1              16000 non-null  int64  \n",
      " 21  insurance_site_aid_YN  16000 non-null  int64  \n",
      " 22  police_site_aid_YN     16000 non-null  int64  \n",
      " 23  total_prsn_cnt         16000 non-null  int64  \n",
      " 24  test_set               16000 non-null  int64  \n",
      "dtypes: float64(1), int64(24)\n",
      "memory usage: 3.1 MB\n"
     ]
    }
   ],
   "source": [
    "socar_rd.info()"
   ]
  },
  {
   "cell_type": "code",
   "execution_count": 7,
   "id": "worthy-trash",
   "metadata": {},
   "outputs": [
    {
     "data": {
      "text/plain": [
       "(array([0, 1]), array([12879,  3121]))"
      ]
     },
     "execution_count": 7,
     "metadata": {},
     "output_type": "execute_result"
    }
   ],
   "source": [
    "np.unique(socar_rd.test_set, return_counts=True)"
   ]
  },
  {
   "cell_type": "markdown",
   "id": "familiar-defensive",
   "metadata": {},
   "source": [
    "# ===========================\n",
    "### 전처리 반영 내용 (베이스라인, 비교군)\n",
    "- hour 순서 바꿔놓기 (start , accident)\n",
    "- duration 순서 바꿔놓기\n",
    "\n",
    "- 데이터 손 아무것도 안대고 알고리즘별 결과 구하기 (베이스라인을 위해)  \n",
    "  --> recall==0이라 oversampling하고 baseline잡아야 할듯\n",
    "- 전체 스케일링&원핫인코딩 vs. 스케일링만(원핫인코딩 없이) vs.인코딩만(스케일링X)\n",
    "- null값 행/열 제외 or 그대로 or 대치 (acci_hour==-1, acci_loc=5, acc_type==0,  \n",
    "  insur_YN ==0, police_YN ==0, total_prsn_cnt==-1)\n",
    "- gap 열 추가유무에 따른 차이 (알수없음은 대체값 삽입)\n",
    "- ** imbalance 교정 방법 : SMOTE, (+ a?) **\n",
    "### 사용할 ML 기법 및 절차 (분류)\n",
    "- Logistic Regression\n",
    "- RandomForest, DecisionTree\n",
    "- lgbmboost\n",
    "- naiveBaysian\n",
    "- cluster (KNN) (고차원 불리하니 PCA가 선행 필요할 듯)\n",
    "- (SVM)\n",
    "- PCA\n",
    "- cv\n",
    "\n",
    "### 성능평가 기준\n",
    "- recall, precision, f1score, (+ accuracy), roc_curve\n",
    "\n",
    "### 고려할 만한 데이터 이상값\n",
    "- start~acci gap이 duration을 고려했을 때 있을 수 없는 값들\n",
    "\n",
    "### 데이터 수집 시 개선하면 좋을 사항들\n",
    "- 시간을 범주화가 아니라 시간별 등 더 자세하게 & 하려면 일정 간격으로  \n",
    "  (분석할 때는 유의미한 범주화겠지만, 모델링 시, 시간 갭을 보려할 때 범주 1개 차이의 의미가 달라질 수 있기 때문)\n",
    "# ==========================="
   ]
  },
  {
   "cell_type": "code",
   "execution_count": 20,
   "id": "conscious-hungary",
   "metadata": {},
   "outputs": [
    {
     "data": {
      "text/plain": [
       "(array([1, 2, 3, 4, 5, 6]),\n",
       " array([-1,  1,  2,  3,  4,  5,  6]),\n",
       " array([1, 2, 3, 4, 5]))"
      ]
     },
     "execution_count": 20,
     "metadata": {},
     "output_type": "execute_result"
    }
   ],
   "source": [
    "np.unique(socar_rd.start_hour), np.unique(socar_rd.accident_hour), \\\n",
    "np.unique(socar_rd.duration)"
   ]
  },
  {
   "cell_type": "code",
   "execution_count": 19,
   "id": "public-burlington",
   "metadata": {},
   "outputs": [],
   "source": [
    "# 전처리"
   ]
  },
  {
   "cell_type": "code",
   "execution_count": 116,
   "id": "absolute-penguin",
   "metadata": {},
   "outputs": [],
   "source": [
    "# 헷갈리니 start_hour, duration, accident_hour 순서 순으로 다시 범주화\n",
    "socar_rd_cp = socar_rd.copy()\n",
    "\n",
    "\n",
    "# start_hour\n",
    "socar_rd_cp[\"start_hour\"].replace(2, 10, inplace=True) # 1은 21~04시 (변동X)\n",
    "socar_rd_cp[\"start_hour\"].replace(3, 2, inplace=True) # 2는 05~07시\n",
    "socar_rd_cp[\"start_hour\"].replace(4, 3, inplace=True) # 3은 8~10시\n",
    "socar_rd_cp[\"start_hour\"].replace(5, 4, inplace=True) # 4는 11~13시\n",
    "socar_rd_cp[\"start_hour\"].replace(6, 5, inplace=True) # 5는 14~16시\n",
    "socar_rd_cp[\"start_hour\"].replace(10, 6, inplace=True) # 6은 17~20시\n",
    "\n",
    "\n",
    "# accident_hour\n",
    "socar_rd_cp[\"accident_hour\"].replace(2, 10, inplace=True) # 1은 21~04시 (변동X)\n",
    "socar_rd_cp[\"accident_hour\"].replace(3, 2, inplace=True) # 2는 05~07시\n",
    "socar_rd_cp[\"accident_hour\"].replace(4, 3, inplace=True) # 3은 8~10시\n",
    "socar_rd_cp[\"accident_hour\"].replace(5, 4, inplace=True) # 4는 11~13시\n",
    "socar_rd_cp[\"accident_hour\"].replace(6, 5, inplace=True) # 5는 14~16시\n",
    "socar_rd_cp[\"accident_hour\"].replace(10, 6, inplace=True) # 6은 17~20시\n",
    "\n",
    "\n",
    "# duration\n",
    "socar_rd_cp[\"duration\"].replace(5, 10, inplace=True) # 1은 0~1시간대\n",
    "socar_rd_cp[\"duration\"].replace(4, 5, inplace=True) # 2는 2~5시간대\n",
    "socar_rd_cp[\"duration\"].replace(3, 4, inplace=True) # 3은 6~9시간대\n",
    "socar_rd_cp[\"duration\"].replace(2, 3, inplace=True) # 4는 10~36시간대\n",
    "socar_rd_cp[\"duration\"].replace(1, 2, inplace=True) # 5는 36시간 초과\n",
    "socar_rd_cp[\"duration\"].replace(10, 1, inplace=True)"
   ]
  },
  {
   "cell_type": "code",
   "execution_count": 117,
   "id": "terminal-gasoline",
   "metadata": {},
   "outputs": [],
   "source": [
    "# train, test dataset 구분\n",
    "train_df = socar_rd_cp[socar_rd_cp.test_set==0]\n",
    "test_df = socar_rd_cp[socar_rd_cp.test_set==1]"
   ]
  },
  {
   "cell_type": "code",
   "execution_count": 118,
   "id": "accomplished-momentum",
   "metadata": {},
   "outputs": [
    {
     "data": {
      "text/plain": [
       "((12879, 25), (3121, 25))"
      ]
     },
     "execution_count": 118,
     "metadata": {},
     "output_type": "execute_result"
    }
   ],
   "source": [
    "train_df.shape, test_df.shape"
   ]
  },
  {
   "cell_type": "code",
   "execution_count": 119,
   "id": "minor-gibson",
   "metadata": {},
   "outputs": [
    {
     "name": "stderr",
     "output_type": "stream",
     "text": [
      "/Users/limhyunsoo/opt/anaconda3/envs/nltk/lib/python3.7/site-packages/pandas/core/frame.py:4315: SettingWithCopyWarning: \n",
      "A value is trying to be set on a copy of a slice from a DataFrame\n",
      "\n",
      "See the caveats in the documentation: https://pandas.pydata.org/pandas-docs/stable/user_guide/indexing.html#returning-a-view-versus-a-copy\n",
      "  errors=errors,\n"
     ]
    },
    {
     "data": {
      "text/plain": [
       "((12879, 24), (3121, 24))"
      ]
     },
     "execution_count": 119,
     "metadata": {},
     "output_type": "execute_result"
    }
   ],
   "source": [
    "# 구분했으니 test_set 열은 삭제\n",
    "train_df.drop([\"test_set\"], axis=1, inplace=True)\n",
    "test_df.drop([\"test_set\"], axis=1, inplace=True)\n",
    "\n",
    "train_df.shape, test_df.shape"
   ]
  },
  {
   "cell_type": "code",
   "execution_count": 22,
   "id": "going-brown",
   "metadata": {},
   "outputs": [],
   "source": [
    "# 데이터 넣으면 바로 각종 score 나오도록 함수 작성"
   ]
  },
  {
   "cell_type": "code",
   "execution_count": 120,
   "id": "martial-marijuana",
   "metadata": {},
   "outputs": [],
   "source": [
    "# 각각 xlabel과 ylabel 구분\n",
    "X_train = train_df.drop([\"fraud_YN\"], axis=1)\n",
    "y_train = train_df[\"fraud_YN\"]\n",
    "X_test = test_df.drop([\"fraud_YN\"], axis=1)\n",
    "y_test = test_df[\"fraud_YN\"]"
   ]
  },
  {
   "cell_type": "code",
   "execution_count": 169,
   "id": "incredible-preliminary",
   "metadata": {},
   "outputs": [],
   "source": [
    "from sklearn.linear_model import LogisticRegression\n",
    "from sklearn.tree import DecisionTreeClassifier\n",
    "from sklearn.ensemble import RandomForestClassifier\n",
    "from lightgbm import LGBMClassifier\n",
    "from sklearn.naive_bayes import MultinomialNB\n",
    "from sklearn.metrics import (accuracy_score, classification_report, confusion_matrix,\n",
    "                             roc_auc_score, roc_curve)\n",
    "\n",
    "\n",
    "clfs = [('LogisticRegression', LogisticRegression(random_state=13, solver='liblinear')),\n",
    "      ('DecisionTree', DecisionTreeClassifier(random_state=13, max_depth=4)),\n",
    "       (\"RandomForest\", RandomForestClassifier(random_state=13, n_jobs=-1, n_estimators=100)),\n",
    "       (\"LGBMBoost\", LGBMClassifier(n_estimators=1000, num_leaves=64, n_jobs=-1, boost_from_average=False)),\n",
    "       ]"
   ]
  },
  {
   "cell_type": "code",
   "execution_count": 170,
   "id": "supreme-comparison",
   "metadata": {
    "scrolled": false
   },
   "outputs": [
    {
     "name": "stdout",
     "output_type": "stream",
     "text": [
      "============\n",
      "name: LogisticRegression\n",
      "accuracy_score: 0.9977571291252804\n",
      "[[3114    0]\n",
      " [   7    0]]\n",
      "              precision    recall  f1-score   support\n",
      "\n",
      "           0       1.00      1.00      1.00      3114\n",
      "           1       0.00      0.00      0.00         7\n",
      "\n",
      "    accuracy                           1.00      3121\n",
      "   macro avg       0.50      0.50      0.50      3121\n",
      "weighted avg       1.00      1.00      1.00      3121\n",
      "\n",
      "============\n",
      "name: DecisionTree\n",
      "accuracy_score: 0.9977571291252804\n",
      "[[3114    0]\n",
      " [   7    0]]\n",
      "              precision    recall  f1-score   support\n",
      "\n",
      "           0       1.00      1.00      1.00      3114\n",
      "           1       0.00      0.00      0.00         7\n",
      "\n",
      "    accuracy                           1.00      3121\n",
      "   macro avg       0.50      0.50      0.50      3121\n",
      "weighted avg       1.00      1.00      1.00      3121\n",
      "\n",
      "============\n",
      "name: RandomForest\n"
     ]
    },
    {
     "name": "stderr",
     "output_type": "stream",
     "text": [
      "/Users/limhyunsoo/opt/anaconda3/envs/nltk/lib/python3.7/site-packages/sklearn/metrics/_classification.py:1245: UndefinedMetricWarning: Precision and F-score are ill-defined and being set to 0.0 in labels with no predicted samples. Use `zero_division` parameter to control this behavior.\n",
      "  _warn_prf(average, modifier, msg_start, len(result))\n",
      "/Users/limhyunsoo/opt/anaconda3/envs/nltk/lib/python3.7/site-packages/sklearn/metrics/_classification.py:1245: UndefinedMetricWarning: Precision and F-score are ill-defined and being set to 0.0 in labels with no predicted samples. Use `zero_division` parameter to control this behavior.\n",
      "  _warn_prf(average, modifier, msg_start, len(result))\n",
      "/Users/limhyunsoo/opt/anaconda3/envs/nltk/lib/python3.7/site-packages/sklearn/metrics/_classification.py:1245: UndefinedMetricWarning: Precision and F-score are ill-defined and being set to 0.0 in labels with no predicted samples. Use `zero_division` parameter to control this behavior.\n",
      "  _warn_prf(average, modifier, msg_start, len(result))\n",
      "/Users/limhyunsoo/opt/anaconda3/envs/nltk/lib/python3.7/site-packages/sklearn/metrics/_classification.py:1245: UndefinedMetricWarning: Precision and F-score are ill-defined and being set to 0.0 in labels with no predicted samples. Use `zero_division` parameter to control this behavior.\n",
      "  _warn_prf(average, modifier, msg_start, len(result))\n",
      "/Users/limhyunsoo/opt/anaconda3/envs/nltk/lib/python3.7/site-packages/sklearn/metrics/_classification.py:1245: UndefinedMetricWarning: Precision and F-score are ill-defined and being set to 0.0 in labels with no predicted samples. Use `zero_division` parameter to control this behavior.\n",
      "  _warn_prf(average, modifier, msg_start, len(result))\n",
      "/Users/limhyunsoo/opt/anaconda3/envs/nltk/lib/python3.7/site-packages/sklearn/metrics/_classification.py:1245: UndefinedMetricWarning: Precision and F-score are ill-defined and being set to 0.0 in labels with no predicted samples. Use `zero_division` parameter to control this behavior.\n",
      "  _warn_prf(average, modifier, msg_start, len(result))\n"
     ]
    },
    {
     "name": "stdout",
     "output_type": "stream",
     "text": [
      "accuracy_score: 0.9977571291252804\n",
      "[[3114    0]\n",
      " [   7    0]]\n",
      "              precision    recall  f1-score   support\n",
      "\n",
      "           0       1.00      1.00      1.00      3114\n",
      "           1       0.00      0.00      0.00         7\n",
      "\n",
      "    accuracy                           1.00      3121\n",
      "   macro avg       0.50      0.50      0.50      3121\n",
      "weighted avg       1.00      1.00      1.00      3121\n",
      "\n",
      "============\n",
      "name: LGBMBoost\n"
     ]
    },
    {
     "name": "stderr",
     "output_type": "stream",
     "text": [
      "/Users/limhyunsoo/opt/anaconda3/envs/nltk/lib/python3.7/site-packages/sklearn/metrics/_classification.py:1245: UndefinedMetricWarning: Precision and F-score are ill-defined and being set to 0.0 in labels with no predicted samples. Use `zero_division` parameter to control this behavior.\n",
      "  _warn_prf(average, modifier, msg_start, len(result))\n",
      "/Users/limhyunsoo/opt/anaconda3/envs/nltk/lib/python3.7/site-packages/sklearn/metrics/_classification.py:1245: UndefinedMetricWarning: Precision and F-score are ill-defined and being set to 0.0 in labels with no predicted samples. Use `zero_division` parameter to control this behavior.\n",
      "  _warn_prf(average, modifier, msg_start, len(result))\n",
      "/Users/limhyunsoo/opt/anaconda3/envs/nltk/lib/python3.7/site-packages/sklearn/metrics/_classification.py:1245: UndefinedMetricWarning: Precision and F-score are ill-defined and being set to 0.0 in labels with no predicted samples. Use `zero_division` parameter to control this behavior.\n",
      "  _warn_prf(average, modifier, msg_start, len(result))\n"
     ]
    },
    {
     "name": "stdout",
     "output_type": "stream",
     "text": [
      "accuracy_score: 0.9977571291252804\n",
      "[[3114    0]\n",
      " [   7    0]]\n",
      "              precision    recall  f1-score   support\n",
      "\n",
      "           0       1.00      1.00      1.00      3114\n",
      "           1       0.00      0.00      0.00         7\n",
      "\n",
      "    accuracy                           1.00      3121\n",
      "   macro avg       0.50      0.50      0.50      3121\n",
      "weighted avg       1.00      1.00      1.00      3121\n",
      "\n"
     ]
    },
    {
     "name": "stderr",
     "output_type": "stream",
     "text": [
      "/Users/limhyunsoo/opt/anaconda3/envs/nltk/lib/python3.7/site-packages/sklearn/metrics/_classification.py:1245: UndefinedMetricWarning: Precision and F-score are ill-defined and being set to 0.0 in labels with no predicted samples. Use `zero_division` parameter to control this behavior.\n",
      "  _warn_prf(average, modifier, msg_start, len(result))\n",
      "/Users/limhyunsoo/opt/anaconda3/envs/nltk/lib/python3.7/site-packages/sklearn/metrics/_classification.py:1245: UndefinedMetricWarning: Precision and F-score are ill-defined and being set to 0.0 in labels with no predicted samples. Use `zero_division` parameter to control this behavior.\n",
      "  _warn_prf(average, modifier, msg_start, len(result))\n",
      "/Users/limhyunsoo/opt/anaconda3/envs/nltk/lib/python3.7/site-packages/sklearn/metrics/_classification.py:1245: UndefinedMetricWarning: Precision and F-score are ill-defined and being set to 0.0 in labels with no predicted samples. Use `zero_division` parameter to control this behavior.\n",
      "  _warn_prf(average, modifier, msg_start, len(result))\n"
     ]
    }
   ],
   "source": [
    "for name, model in clfs:\n",
    "    print('============')\n",
    "    print('name:', name)\n",
    "    model.fit(X_train, y_train)\n",
    "    pred = model.predict(X_test)\n",
    "    print(\"accuracy_score:\", accuracy_score(y_test, pred))\n",
    "    print(confusion_matrix(y_test, pred))\n",
    "    print(classification_report(y_test, pred))"
   ]
  },
  {
   "cell_type": "code",
   "execution_count": 44,
   "id": "spoken-border",
   "metadata": {},
   "outputs": [
    {
     "data": {
      "text/plain": [
       "(array([0, 1]), array([3105,   16]))"
      ]
     },
     "execution_count": 44,
     "metadata": {},
     "output_type": "execute_result"
    }
   ],
   "source": [
    "np.unique(pred, return_counts=True)"
   ]
  },
  {
   "cell_type": "markdown",
   "id": "upper-railway",
   "metadata": {},
   "source": [
    "# -> imbalance 처리 안하니까 애초에 1을 예측하지 않음 -> baseline도 일단 imbalance는 해결한 다음 잡아야겠다"
   ]
  },
  {
   "cell_type": "code",
   "execution_count": 63,
   "id": "floating-georgia",
   "metadata": {},
   "outputs": [
    {
     "data": {
      "text/plain": [
       "(array([0, 1]), array([12845,    34]))"
      ]
     },
     "execution_count": 63,
     "metadata": {},
     "output_type": "execute_result"
    }
   ],
   "source": [
    "np.unique(y_train, return_counts=True)"
   ]
  },
  {
   "cell_type": "code",
   "execution_count": 65,
   "id": "regulation-relations",
   "metadata": {},
   "outputs": [
    {
     "data": {
      "text/plain": [
       "0.26"
      ]
     },
     "execution_count": 65,
     "metadata": {},
     "output_type": "execute_result"
    }
   ],
   "source": [
    "round(34 / len(y_train) * 100 ,2)"
   ]
  },
  {
   "cell_type": "code",
   "execution_count": 66,
   "id": "formal-sector",
   "metadata": {},
   "outputs": [
    {
     "data": {
      "text/plain": [
       "(array([0, 1]), array([3114,    7]))"
      ]
     },
     "execution_count": 66,
     "metadata": {},
     "output_type": "execute_result"
    }
   ],
   "source": [
    "np.unique(y_test, return_counts=True)"
   ]
  },
  {
   "cell_type": "code",
   "execution_count": 69,
   "id": "identical-photograph",
   "metadata": {},
   "outputs": [
    {
     "data": {
      "text/plain": [
       "0.22"
      ]
     },
     "execution_count": 69,
     "metadata": {},
     "output_type": "execute_result"
    }
   ],
   "source": [
    "# 비율은 수업시간에 한 신용카드사기보다 높은데 왜 더 편향된 결과가 나오지?\n",
    "round(7 / (3114+7) * 100,2)"
   ]
  },
  {
   "cell_type": "code",
   "execution_count": 70,
   "id": "imposed-stamp",
   "metadata": {},
   "outputs": [],
   "source": [
    "from sklearn.metrics import (accuracy_score, precision_score, recall_score,\n",
    "                            f1_score, roc_auc_score)\n",
    "\n",
    "def get_clf_eval(y_test, pred):\n",
    "    acc = accuracy_score(y_test, pred)\n",
    "    pre = precision_score(y_test, pred)\n",
    "    re = recall_score(y_test, pred)\n",
    "    f1 = f1_score(y_test, pred)\n",
    "    auc = roc_auc_score(y_test, pred)\n",
    "    \n",
    "    return acc, pre ,re, f1, auc"
   ]
  },
  {
   "cell_type": "code",
   "execution_count": 71,
   "id": "educated-boulder",
   "metadata": {},
   "outputs": [],
   "source": [
    "def print_clf_eval(y_test, pred):\n",
    "    confusion = confusion_matrix(y_test, pred)\n",
    "    acc, pre, re, f1, auc = get_clf_eval(y_test, pred)\n",
    "    \n",
    "    print(\"==> confusion matrix\")\n",
    "    print(confusion)\n",
    "    print('=========')\n",
    "    \n",
    "    print('Accuracy: {0: .4f}, Precision: {1: .4f}'.format(acc, pre))\n",
    "    print('Recall: {0: .4f}, F1: {1: .4f}, AUC:{2: .4f}'.format(re, f1, auc))"
   ]
  },
  {
   "cell_type": "code",
   "execution_count": 72,
   "id": "residential-customs",
   "metadata": {},
   "outputs": [
    {
     "name": "stdout",
     "output_type": "stream",
     "text": [
      "==> confusion matrix\n",
      "[[3114    0]\n",
      " [   7    0]]\n",
      "=========\n",
      "Accuracy:  0.9978, Precision:  0.0000\n",
      "Recall:  0.0000, F1:  0.0000, AUC: 0.5000\n"
     ]
    },
    {
     "name": "stderr",
     "output_type": "stream",
     "text": [
      "/Users/limhyunsoo/opt/anaconda3/envs/nltk/lib/python3.7/site-packages/sklearn/metrics/_classification.py:1245: UndefinedMetricWarning: Precision is ill-defined and being set to 0.0 due to no predicted samples. Use `zero_division` parameter to control this behavior.\n",
      "  _warn_prf(average, modifier, msg_start, len(result))\n"
     ]
    }
   ],
   "source": [
    "lr_clf = LogisticRegression(random_state=13, solver='liblinear')\n",
    "lr_clf.fit(X_train, y_train)\n",
    "lr_pred = lr_clf.predict(X_test)\n",
    "\n",
    "print_clf_eval(y_test, lr_pred)"
   ]
  },
  {
   "cell_type": "code",
   "execution_count": 73,
   "id": "little-wright",
   "metadata": {},
   "outputs": [
    {
     "name": "stdout",
     "output_type": "stream",
     "text": [
      "==> confusion matrix\n",
      "[[3114    0]\n",
      " [   7    0]]\n",
      "=========\n",
      "Accuracy:  0.9978, Precision:  0.0000\n",
      "Recall:  0.0000, F1:  0.0000, AUC: 0.5000\n"
     ]
    },
    {
     "name": "stderr",
     "output_type": "stream",
     "text": [
      "/Users/limhyunsoo/opt/anaconda3/envs/nltk/lib/python3.7/site-packages/sklearn/metrics/_classification.py:1245: UndefinedMetricWarning: Precision is ill-defined and being set to 0.0 due to no predicted samples. Use `zero_division` parameter to control this behavior.\n",
      "  _warn_prf(average, modifier, msg_start, len(result))\n"
     ]
    }
   ],
   "source": [
    "lgbm_clf = LGBMClassifier(n_estimators=1000, num_leaves=64, n_jobs=-1,\n",
    "                         boost_from_average=False)\n",
    "lgbm_clf.fit(X_train, y_train)\n",
    "lgbm_pred = lgbm_clf.predict(X_test)\n",
    "\n",
    "print_clf_eval(y_test, lgbm_pred)"
   ]
  },
  {
   "cell_type": "markdown",
   "id": "grave-notification",
   "metadata": {},
   "source": [
    "# imbalance 처리부터 하자..."
   ]
  },
  {
   "cell_type": "code",
   "execution_count": 121,
   "id": "offshore-oxide",
   "metadata": {},
   "outputs": [],
   "source": [
    "from imblearn.over_sampling import SMOTE\n",
    "\n",
    "smote = SMOTE(random_state=13)\n",
    "X_train_over, y_train_over = smote.fit_resample(X_train, y_train)"
   ]
  },
  {
   "cell_type": "code",
   "execution_count": 122,
   "id": "interesting-dylan",
   "metadata": {},
   "outputs": [
    {
     "data": {
      "text/plain": [
       "((12879, 23), (12879,))"
      ]
     },
     "execution_count": 122,
     "metadata": {},
     "output_type": "execute_result"
    }
   ],
   "source": [
    "X_train.shape, y_train.shape"
   ]
  },
  {
   "cell_type": "code",
   "execution_count": 133,
   "id": "specialized-pakistan",
   "metadata": {},
   "outputs": [
    {
     "data": {
      "text/plain": [
       "((25690, 23), (25690,))"
      ]
     },
     "execution_count": 133,
     "metadata": {},
     "output_type": "execute_result"
    }
   ],
   "source": [
    "X_train_over.shape, y_train_over.shape"
   ]
  },
  {
   "cell_type": "code",
   "execution_count": 134,
   "id": "above-korean",
   "metadata": {},
   "outputs": [
    {
     "data": {
      "text/plain": [
       "((array([0, 1]), array([12845,    34])),\n",
       " (array([0, 1]), array([12845, 12845])))"
      ]
     },
     "execution_count": 134,
     "metadata": {},
     "output_type": "execute_result"
    }
   ],
   "source": [
    "np.unique(y_train, return_counts=True), np.unique(y_train_over, return_counts=True)"
   ]
  },
  {
   "cell_type": "code",
   "execution_count": 159,
   "id": "abstract-digest",
   "metadata": {},
   "outputs": [
    {
     "name": "stdout",
     "output_type": "stream",
     "text": [
      "============\n",
      "name: LogisticRegression\n",
      "accuracy_score: 0.7926946491509131\n",
      "[[2472  642]\n",
      " [   5    2]]\n",
      "              precision    recall  f1-score   support\n",
      "\n",
      "           0       1.00      0.79      0.88      3114\n",
      "           1       0.00      0.29      0.01         7\n",
      "\n",
      "    accuracy                           0.79      3121\n",
      "   macro avg       0.50      0.54      0.45      3121\n",
      "weighted avg       1.00      0.79      0.88      3121\n",
      "\n",
      "============\n",
      "name: DecisionTree\n",
      "accuracy_score: 0.6529958346683755\n",
      "[[2036 1078]\n",
      " [   5    2]]\n",
      "              precision    recall  f1-score   support\n",
      "\n",
      "           0       1.00      0.65      0.79      3114\n",
      "           1       0.00      0.29      0.00         7\n",
      "\n",
      "    accuracy                           0.65      3121\n",
      "   macro avg       0.50      0.47      0.40      3121\n",
      "weighted avg       1.00      0.65      0.79      3121\n",
      "\n",
      "============\n",
      "name: RandomForest\n",
      "accuracy_score: 0.9967958987504005\n",
      "[[3111    3]\n",
      " [   7    0]]\n",
      "              precision    recall  f1-score   support\n",
      "\n",
      "           0       1.00      1.00      1.00      3114\n",
      "           1       0.00      0.00      0.00         7\n",
      "\n",
      "    accuracy                           1.00      3121\n",
      "   macro avg       0.50      0.50      0.50      3121\n",
      "weighted avg       1.00      1.00      1.00      3121\n",
      "\n",
      "============\n",
      "name: LGBMBoost\n",
      "accuracy_score: 0.9932713873758411\n",
      "[[3100   14]\n",
      " [   7    0]]\n",
      "              precision    recall  f1-score   support\n",
      "\n",
      "           0       1.00      1.00      1.00      3114\n",
      "           1       0.00      0.00      0.00         7\n",
      "\n",
      "    accuracy                           0.99      3121\n",
      "   macro avg       0.50      0.50      0.50      3121\n",
      "weighted avg       1.00      0.99      0.99      3121\n",
      "\n"
     ]
    }
   ],
   "source": [
    "# 다시...! --> LR과 DT는 baseline나옴.. 0.29 (2/7). 어떻게든 2개 이상은 맞추는 것이 목표!\n",
    "for name, model in clfs:\n",
    "    print('============')\n",
    "    print('name:', name)\n",
    "    model.fit(X_train_over, y_train_over)\n",
    "    pred = model.predict(X_test)\n",
    "    print(\"accuracy_score:\", accuracy_score(y_test, pred))\n",
    "    print(confusion_matrix(y_test, pred))\n",
    "    print(classification_report(y_test, pred))"
   ]
  },
  {
   "cell_type": "code",
   "execution_count": 164,
   "id": "fatal-function",
   "metadata": {},
   "outputs": [],
   "source": [
    "lr_clf = LogisticRegression(random_state=13, solver='liblinear')\n",
    "lr_clf.fit(X_train_over, y_train_over)\n",
    "\n",
    "dt_clf = DecisionTreeClassifier(max_depth=4, random_state=13)\n",
    "dt_clf.fit(X_train_over, y_train_over)\n",
    "\n",
    "rf_clf = RandomForestClassifier(random_state=13, n_jobs=-1, n_estimators=100)\n",
    "rf_clf.fit(X_train_over, y_train_over)\n",
    "\n",
    "lgbm_clf = LGBMClassifier(n_estimators=1000, num_leaves=64, n_jobs=-1,\n",
    "                         boost_from_average=False)\n",
    "lgbm_clf.fit(X_train_over, y_train_over)\n",
    "\n",
    "models = [lr_clf, dt_clf, rf_clf, lgbm_clf]\n",
    "model_names = [\"LogisticReg\", \"DecisionTree\", 'RandomForest', 'LightGBM']"
   ]
  },
  {
   "cell_type": "code",
   "execution_count": 165,
   "id": "meaningful-profession",
   "metadata": {},
   "outputs": [],
   "source": [
    "def draw_roc_curve(models, model_names, X_test, y_test):\n",
    "    plt.figure(figsize=(5,5))\n",
    "    \n",
    "    for model in range(len(models)):\n",
    "        pred = models[model].predict_proba(X_test)[: ,1]\n",
    "        fpr, tpr, thresholds = roc_curve(y_test, pred)\n",
    "        plt.plot(fpr, tpr, label=model_names[model])\n",
    "        \n",
    "    plt.plot([0,1], [0,1], 'k--', label='random guess')\n",
    "    plt.title(\"ROC\")\n",
    "    plt.legend()\n",
    "    plt.grid()\n",
    "    plt.show()"
   ]
  },
  {
   "cell_type": "code",
   "execution_count": 166,
   "id": "chronic-recipe",
   "metadata": {},
   "outputs": [
    {
     "data": {
      "image/png": "[encoded data removed]",
      "text/plain": [
       "<Figure size 360x360 with 1 Axes>"
      ]
     },
     "metadata": {
      "image/png": {
       "height": 318,
       "width": 316
      },
      "needs_background": "light"
     },
     "output_type": "display_data"
    }
   ],
   "source": [
    "draw_roc_curve(models, model_names, X_test, y_test)"
   ]
  },
  {
   "cell_type": "code",
   "execution_count": 172,
   "id": "impressive-prisoner",
   "metadata": {},
   "outputs": [],
   "source": [
    "# imbalance SMOTE로 처리했지만 결과 LR이 그나마, 나머지는 여전히 별로.. 전처리가 필수일 것 같다.. 하나씩 전처리하면서 변화 확인하기"
   ]
  },
  {
   "cell_type": "code",
   "execution_count": null,
   "id": "aware-expression",
   "metadata": {},
   "outputs": [],
   "source": []
  },
  {
   "cell_type": "code",
   "execution_count": null,
   "id": "fiscal-bouquet",
   "metadata": {},
   "outputs": [],
   "source": []
  },
  {
   "cell_type": "code",
   "execution_count": null,
   "id": "electrical-cambridge",
   "metadata": {},
   "outputs": [],
   "source": []
  },
  {
   "cell_type": "code",
   "execution_count": null,
   "id": "collect-roads",
   "metadata": {},
   "outputs": [],
   "source": []
  },
  {
   "cell_type": "code",
   "execution_count": null,
   "id": "dated-identifier",
   "metadata": {},
   "outputs": [],
   "source": []
  },
  {
   "cell_type": "code",
   "execution_count": null,
   "id": "productive-pastor",
   "metadata": {},
   "outputs": [],
   "source": []
  },
  {
   "cell_type": "code",
   "execution_count": null,
   "id": "finished-gauge",
   "metadata": {},
   "outputs": [],
   "source": []
  },
  {
   "cell_type": "code",
   "execution_count": null,
   "id": "agreed-spirit",
   "metadata": {},
   "outputs": [],
   "source": []
  },
  {
   "cell_type": "code",
   "execution_count": null,
   "id": "center-payment",
   "metadata": {},
   "outputs": [],
   "source": []
  },
  {
   "cell_type": "code",
   "execution_count": null,
   "id": "twenty-conversion",
   "metadata": {},
   "outputs": [],
   "source": []
  },
  {
   "cell_type": "code",
   "execution_count": null,
   "id": "electrical-detector",
   "metadata": {},
   "outputs": [],
   "source": []
  },
  {
   "cell_type": "code",
   "execution_count": null,
   "id": "civic-consensus",
   "metadata": {},
   "outputs": [],
   "source": []
  },
  {
   "cell_type": "code",
   "execution_count": null,
   "id": "eight-brisbane",
   "metadata": {},
   "outputs": [],
   "source": []
  },
  {
   "cell_type": "code",
   "execution_count": null,
   "id": "surrounded-garbage",
   "metadata": {},
   "outputs": [],
   "source": []
  },
  {
   "cell_type": "code",
   "execution_count": null,
   "id": "previous-batch",
   "metadata": {},
   "outputs": [],
   "source": []
  },
  {
   "cell_type": "code",
   "execution_count": null,
   "id": "protective-increase",
   "metadata": {},
   "outputs": [],
   "source": []
  },
  {
   "cell_type": "code",
   "execution_count": null,
   "id": "controlled-notice",
   "metadata": {},
   "outputs": [],
   "source": []
  },
  {
   "cell_type": "code",
   "execution_count": null,
   "id": "regular-general",
   "metadata": {},
   "outputs": [],
   "source": []
  },
  {
   "cell_type": "code",
   "execution_count": null,
   "id": "narrow-endorsement",
   "metadata": {},
   "outputs": [],
   "source": []
  },
  {
   "cell_type": "code",
   "execution_count": null,
   "id": "accepting-accuracy",
   "metadata": {},
   "outputs": [],
   "source": []
  }
 ],
 "metadata": {
  "kernelspec": {
   "display_name": "Python 3",
   "language": "python",
   "name": "python3"
  },
  "language_info": {
   "codemirror_mode": {
    "name": "ipython",
    "version": 3
   },
   "file_extension": ".py",
   "mimetype": "text/x-python",
   "name": "python",
   "nbconvert_exporter": "python",
   "pygments_lexer": "ipython3",
   "version": "3.7.10"
  }
 },
 "nbformat": 4,
 "nbformat_minor": 5
}
